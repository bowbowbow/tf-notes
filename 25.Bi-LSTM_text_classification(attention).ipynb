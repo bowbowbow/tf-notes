{
 "cells": [
  {
   "cell_type": "code",
   "execution_count": 1,
   "metadata": {},
   "outputs": [],
   "source": [
    "'''\n",
    "  Reference : https://github.com/graykode/nlp-tutorial\n",
    "'''\n",
    "\n",
    "import tensorflow as tf\n",
    "import numpy as np\n",
    "import pandas as pd\n",
    "import nltk\n",
    "import os, re\n",
    "from tqdm import tqdm"
   ]
  },
  {
   "cell_type": "markdown",
   "metadata": {},
   "source": [
    "## Dataset"
   ]
  },
  {
   "cell_type": "code",
   "execution_count": 2,
   "metadata": {},
   "outputs": [
    {
     "name": "stderr",
     "output_type": "stream",
     "text": [
      "100%|██████████| 12500/12500 [00:00<00:00, 22772.60it/s]\n",
      "100%|██████████| 12500/12500 [00:00<00:00, 22199.33it/s]\n",
      "100%|██████████| 12500/12500 [00:00<00:00, 21402.17it/s]\n",
      "100%|██████████| 12500/12500 [00:00<00:00, 21914.88it/s]\n"
     ]
    }
   ],
   "source": [
    "class Dataset:\n",
    "    def load_directory_data(self, directory):\n",
    "        data = {}\n",
    "        data[\"sentence\"] = []\n",
    "        data[\"sentiment\"] = []\n",
    "        for file_path in tqdm(os.listdir(directory)):\n",
    "            with tf.gfile.GFile(os.path.join(directory, file_path), \"r\") as f:\n",
    "                data[\"sentence\"].append(f.read())\n",
    "                data[\"sentiment\"].append(re.match(\"\\d+_(\\d+)\\.txt\", file_path).group(1))\n",
    "        return pd.DataFrame.from_dict(data)\n",
    "\n",
    "    def load_dataset(self, directory):\n",
    "        pos_df = self.load_directory_data(os.path.join(directory, \"pos\"))\n",
    "        neg_df = self.load_directory_data(os.path.join(directory, \"neg\"))\n",
    "        pos_df[\"polarity\"] = 1\n",
    "        neg_df[\"polarity\"] = 0\n",
    "        return pd.concat([pos_df, neg_df]).sample(frac=1).reset_index(drop=True)\n",
    "\n",
    "    def download_and_load_datasets(self):\n",
    "        dataset = tf.keras.utils.get_file(\n",
    "          fname=\"aclImdb.tar.gz\", \n",
    "          origin=\"http://ai.stanford.edu/~amaas/data/sentiment/aclImdb_v1.tar.gz\", \n",
    "          extract=True)\n",
    "        \n",
    "        train_df = self.load_dataset(os.path.join(os.path.dirname(dataset),\"aclImdb\", \"train\"))\n",
    "        test_df = self.load_dataset(os.path.join(os.path.dirname(dataset), \"aclImdb\", \"test\"))\n",
    "        return train_df, test_df\n",
    "\n",
    "dataset = Dataset()\n",
    "train_df, test_df = dataset.download_and_load_datasets()"
   ]
  },
  {
   "cell_type": "code",
   "execution_count": 3,
   "metadata": {},
   "outputs": [
    {
     "data": {
      "text/html": [
       "<div>\n",
       "<style scoped>\n",
       "    .dataframe tbody tr th:only-of-type {\n",
       "        vertical-align: middle;\n",
       "    }\n",
       "\n",
       "    .dataframe tbody tr th {\n",
       "        vertical-align: top;\n",
       "    }\n",
       "\n",
       "    .dataframe thead th {\n",
       "        text-align: right;\n",
       "    }\n",
       "</style>\n",
       "<table border=\"1\" class=\"dataframe\">\n",
       "  <thead>\n",
       "    <tr style=\"text-align: right;\">\n",
       "      <th></th>\n",
       "      <th>sentence</th>\n",
       "      <th>sentiment</th>\n",
       "      <th>polarity</th>\n",
       "    </tr>\n",
       "  </thead>\n",
       "  <tbody>\n",
       "    <tr>\n",
       "      <th>0</th>\n",
       "      <td>Tasteless. I can't even write intelligently ab...</td>\n",
       "      <td>1</td>\n",
       "      <td>0</td>\n",
       "    </tr>\n",
       "    <tr>\n",
       "      <th>1</th>\n",
       "      <td>Having watched 10 minutes of this movie I was ...</td>\n",
       "      <td>1</td>\n",
       "      <td>0</td>\n",
       "    </tr>\n",
       "    <tr>\n",
       "      <th>2</th>\n",
       "      <td>There are moments in this unique cartoon of pu...</td>\n",
       "      <td>4</td>\n",
       "      <td>0</td>\n",
       "    </tr>\n",
       "    <tr>\n",
       "      <th>3</th>\n",
       "      <td>A good film, and one I'll watch a number of ti...</td>\n",
       "      <td>8</td>\n",
       "      <td>1</td>\n",
       "    </tr>\n",
       "    <tr>\n",
       "      <th>4</th>\n",
       "      <td>In Stand By Me, Vern and Teddy discuss who was...</td>\n",
       "      <td>7</td>\n",
       "      <td>1</td>\n",
       "    </tr>\n",
       "  </tbody>\n",
       "</table>\n",
       "</div>"
      ],
      "text/plain": [
       "                                            sentence sentiment  polarity\n",
       "0  Tasteless. I can't even write intelligently ab...         1         0\n",
       "1  Having watched 10 minutes of this movie I was ...         1         0\n",
       "2  There are moments in this unique cartoon of pu...         4         0\n",
       "3  A good film, and one I'll watch a number of ti...         8         1\n",
       "4  In Stand By Me, Vern and Teddy discuss who was...         7         1"
      ]
     },
     "execution_count": 3,
     "metadata": {},
     "output_type": "execute_result"
    }
   ],
   "source": [
    "train_df.head()"
   ]
  },
  {
   "cell_type": "markdown",
   "metadata": {},
   "source": [
    "## Parameter"
   ]
  },
  {
   "cell_type": "code",
   "execution_count": 4,
   "metadata": {},
   "outputs": [],
   "source": [
    "embedding_dim = 50\n",
    "n_class = 2 \n",
    "n_hidden = 50\n",
    "sequence_length = n_step = 100\n",
    "total_epoch=30\n",
    "batch_size=128"
   ]
  },
  {
   "cell_type": "markdown",
   "metadata": {},
   "source": [
    "## Input Preprocessing"
   ]
  },
  {
   "cell_type": "code",
   "execution_count": 5,
   "metadata": {},
   "outputs": [
    {
     "name": "stderr",
     "output_type": "stream",
     "text": [
      "100%|██████████| 25000/25000 [00:00<00:00, 30466.00it/s]\n",
      "100%|██████████| 25000/25000 [00:00<00:00, 31730.08it/s]\n"
     ]
    },
    {
     "name": "stdout",
     "output_type": "stream",
     "text": [
      "vocab_size : 182792\n"
     ]
    }
   ],
   "source": [
    "def get_word_list(texts):\n",
    "    import string\n",
    "    word_list = []\n",
    "    for text in tqdm(texts, disable = len(texts) < 10):\n",
    "        for c in string.punctuation:\n",
    "            text = text.replace(c,\"\")\n",
    "        word_list.extend(text.lower().split(' '))\n",
    "    return word_list\n",
    "\n",
    "word_list = ['<eos>', '<pad>'] + get_word_list(train_df['sentence']) + get_word_list(test_df['sentence'])\n",
    "word_list = list(set(word_list))\n",
    "word_dict = {w: i for i, w in enumerate(word_list)}\n",
    "vocab_size = len(word_dict)\n",
    "print('vocab_size :', vocab_size)"
   ]
  },
  {
   "cell_type": "code",
   "execution_count": 6,
   "metadata": {},
   "outputs": [],
   "source": [
    "train_X, test_X, train_y, test_y = [], [], [], []\n",
    "\n",
    "def get_X(texts):\n",
    "    X = []\n",
    "    for text in texts:\n",
    "        x = [word_dict[n] for n in get_word_list([text])][:sequence_length]\n",
    "        if len(x) < sequence_length:\n",
    "            x += [word_dict['<pad>']] * (sequence_length - len(x))\n",
    "        X.append(np.asarray(x))\n",
    "    return X\n",
    "\n",
    "def get_y(polarities):\n",
    "    y = []\n",
    "    for out in polarities:\n",
    "        y.append(np.eye(n_class)[out])\n",
    "    return y\n",
    "        \n",
    "\n",
    "train_X = get_X(train_df['sentence'])\n",
    "test_X = get_X(test_df['sentence'])\n",
    "\n",
    "train_y = get_y(train_df['polarity'])\n",
    "test_y = get_y(test_df['polarity'])"
   ]
  },
  {
   "cell_type": "markdown",
   "metadata": {},
   "source": [
    "## Model"
   ]
  },
  {
   "cell_type": "code",
   "execution_count": 9,
   "metadata": {},
   "outputs": [
    {
     "name": "stdout",
     "output_type": "stream",
     "text": [
      "final_state[1] : LSTMStateTuple(c=<tf.Tensor 'bidirectional_rnn/bw/bw/while/Exit_3:0' shape=(?, 50) dtype=float32>, h=<tf.Tensor 'bidirectional_rnn/bw/bw/while/Exit_4:0' shape=(?, 50) dtype=float32>)\n"
     ]
    }
   ],
   "source": [
    "tf.reset_default_graph()\n",
    "\n",
    "X = tf.placeholder(tf.int32, [None, n_step])\n",
    "Y = tf.placeholder(tf.int32, [None, n_class])\n",
    "out = tf.Variable(tf.random_normal([n_hidden*2, n_class]))\n",
    "\n",
    "embedding = tf.Variable(tf.random_uniform([vocab_size, embedding_dim]))\n",
    "X_embedded = tf.nn.embedding_lookup(embedding, X) # [batch_size, n_step, embedding_dim]\n",
    "\n",
    "lstm_fw_cell = tf.nn.rnn_cell.LSTMCell(n_hidden)\n",
    "lstm_bw_cell = tf.nn.rnn_cell.LSTMCell(n_hidden)\n",
    "\n",
    "output, final_state = tf.nn.bidirectional_dynamic_rnn(lstm_fw_cell, lstm_bw_cell, X_embedded, dtype=tf.float32)\n",
    "# output: [2, batch_size, n_step, n_hidden]\n",
    "# output[0] : lstm_fw, output[1] : lstm_bw\n",
    "\n",
    "# final_state[1]: LSTMStateTuple, final_state[1][0]: LSTM hidden state, final_state[1][1]: LSTM output\n",
    "\n",
    "output = tf.concat([output[0], output[1]], 2) # output: [batch_size, n_step, n_hidden * 2]\n",
    "final_hidden_state = tf.concat([final_state[1][0], final_state[1][1]], 1) # final_hidden_state : [batch_size, n_hidden * 2]]     \n",
    "final_hidden_state = tf.expand_dims(final_hidden_state, 2) # final_hidden_state : [batch_size, n_hidden * 2, 1]     \n",
    "\n",
    "attn_weights = tf.matmul(output, final_hidden_state)  # [batch_size, n_step, 1]\n",
    "attn_weights = tf.squeeze(attn_weights, 2) # [batch_size, n_step]\n",
    "soft_attn_weights = tf.nn.softmax(attn_weights, 1) # [batch_size, n_step]\n",
    "\n",
    "output = tf.transpose(output, [0, 2, 1]) # [batch_size, n_hidden * 2, n_step]\n",
    "soft_attn_weights_expanded = tf.expand_dims(soft_attn_weights, 2) # [batch_size, n_step, 1]\n",
    "context = tf.matmul(output, soft_attn_weights_expanded)  # [batch_size, n_hidden * 2, 1]\n",
    "context = tf.squeeze(context, 2) # [batch_size, n_hidden * 2]\n",
    "\n",
    "model = tf.matmul(context, out)\n",
    "\n",
    "cost = tf.reduce_mean(tf.nn.softmax_cross_entropy_with_logits_v2(logits=model, labels=Y))\n",
    "optimizer = tf.train.AdamOptimizer(0.001).minimize(cost)\n",
    "\n",
    "hypothesis = tf.nn.softmax(model)\n",
    "is_correct = tf.equal(tf.argmax(hypothesis, 1), tf.argmax(Y, 1))\n",
    "accuracy = tf.reduce_mean(tf.cast(is_correct, tf.float32))"
   ]
  },
  {
   "cell_type": "markdown",
   "metadata": {},
   "source": [
    "## Train"
   ]
  },
  {
   "cell_type": "code",
   "execution_count": 8,
   "metadata": {},
   "outputs": [
    {
     "name": "stdout",
     "output_type": "stream",
     "text": [
      "2019-05-03T20:54:16.812126:  Epoch : 0000 Avg. cost =  0.6721\n",
      "\n",
      "Evaluation:\n",
      "acc : 0.74368\n",
      "2019-05-03T20:54:30.613949:  Epoch : 0001 Avg. cost =  0.4161\n",
      "2019-05-03T20:54:43.751618:  Epoch : 0002 Avg. cost =  0.3005\n",
      "2019-05-03T20:54:56.891496:  Epoch : 0003 Avg. cost =  0.2353\n",
      "2019-05-03T20:55:10.027332:  Epoch : 0004 Avg. cost =  0.1984\n",
      "2019-05-03T20:55:23.194406:  Epoch : 0005 Avg. cost =  0.1619\n",
      "\n",
      "Evaluation:\n",
      "acc : 0.80616\n",
      "2019-05-03T20:55:36.930170:  Epoch : 0006 Avg. cost =  0.1324\n",
      "2019-05-03T20:55:50.070052:  Epoch : 0007 Avg. cost =  0.1080\n",
      "2019-05-03T20:56:03.202011:  Epoch : 0008 Avg. cost =  0.0622\n",
      "2019-05-03T20:56:16.369505:  Epoch : 0009 Avg. cost =  0.0567\n",
      "2019-05-03T20:56:29.509454:  Epoch : 0010 Avg. cost =  0.0454\n",
      "\n",
      "Evaluation:\n",
      "acc : 0.71588\n",
      "2019-05-03T20:56:43.265214:  Epoch : 0011 Avg. cost =  0.0525\n",
      "2019-05-03T20:56:56.427623:  Epoch : 0012 Avg. cost =  0.0806\n",
      "2019-05-03T20:57:09.560878:  Epoch : 0013 Avg. cost =  0.0180\n",
      "2019-05-03T20:57:22.700452:  Epoch : 0014 Avg. cost =  0.0155\n",
      "2019-05-03T20:57:35.856712:  Epoch : 0015 Avg. cost =  0.0030\n",
      "\n",
      "Evaluation:\n",
      "acc : 0.7886\n",
      "2019-05-03T20:57:49.607610:  Epoch : 0016 Avg. cost =  0.0010\n",
      "2019-05-03T20:58:02.734158:  Epoch : 0017 Avg. cost =  0.0013\n",
      "2019-05-03T20:58:15.873638:  Epoch : 0018 Avg. cost =  0.0006\n",
      "2019-05-03T20:58:29.001485:  Epoch : 0019 Avg. cost =  0.0002\n",
      "2019-05-03T20:58:42.108003:  Epoch : 0020 Avg. cost =  0.0001\n",
      "\n",
      "Evaluation:\n",
      "acc : 0.7888\n",
      "2019-05-03T20:58:55.832918:  Epoch : 0021 Avg. cost =  0.0001\n",
      "2019-05-03T20:59:08.952138:  Epoch : 0022 Avg. cost =  0.0001\n",
      "2019-05-03T20:59:22.088562:  Epoch : 0023 Avg. cost =  0.0001\n",
      "2019-05-03T20:59:35.255994:  Epoch : 0024 Avg. cost =  0.0001\n",
      "2019-05-03T20:59:48.416164:  Epoch : 0025 Avg. cost =  0.0000\n",
      "\n",
      "Evaluation:\n",
      "acc : 0.78856\n",
      "2019-05-03T21:00:02.194164:  Epoch : 0026 Avg. cost =  0.0000\n",
      "2019-05-03T21:00:15.354828:  Epoch : 0027 Avg. cost =  0.0000\n",
      "2019-05-03T21:00:28.490102:  Epoch : 0028 Avg. cost =  0.0000\n",
      "2019-05-03T21:00:41.620346:  Epoch : 0029 Avg. cost =  0.0000\n"
     ]
    }
   ],
   "source": [
    "sess = tf.Session()\n",
    "sess.run(tf.global_variables_initializer())\n",
    "\n",
    "total_batch = int(len(train_X) / batch_size)\n",
    "\n",
    "for epoch in range(total_epoch):\n",
    "    total_cost = 0\n",
    "    for i in range(total_batch):\n",
    "        batch_X = train_X[batch_size * i:batch_size * (i+1)]\n",
    "        batch_y = train_y[batch_size * i:batch_size * (i+1)]\n",
    "        _, loss = sess.run([optimizer, cost], feed_dict={X: batch_X, Y: batch_y})\n",
    "        total_cost += loss\n",
    "    \n",
    "    import datetime\n",
    "    time_str = datetime.datetime.now().isoformat()\n",
    "    print('{}: '.format(time_str), 'Epoch :', '%04d' % (epoch), 'Avg. cost = ', '{:.4f}'.format(total_cost/ total_batch))\n",
    "    \n",
    "    if epoch % 5 == 0:\n",
    "        print(\"\\nEvaluation:\")\n",
    "        print('acc :', sess.run(accuracy, feed_dict={X: test_X, Y: test_y}))"
   ]
  },
  {
   "cell_type": "markdown",
   "metadata": {},
   "source": [
    "## Result"
   ]
  },
  {
   "cell_type": "code",
   "execution_count": 9,
   "metadata": {},
   "outputs": [
    {
     "name": "stdout",
     "output_type": "stream",
     "text": [
      "Train acc : 0.9998\n",
      "Test acc : 0.78844\n"
     ]
    }
   ],
   "source": [
    "hypothesis = tf.nn.softmax(model)\n",
    "is_correct = tf.equal(tf.argmax(hypothesis, 1), tf.argmax(Y, 1))\n",
    "accuracy = tf.reduce_mean(tf.cast(is_correct, tf.float32))\n",
    "\n",
    "print('Train acc :', sess.run(accuracy, feed_dict={X: train_X, Y: train_y}))\n",
    "print('Test acc :', sess.run(accuracy, feed_dict={X: test_X, Y: test_y}))"
   ]
  }
 ],
 "metadata": {
  "kernelspec": {
   "display_name": "Python 3",
   "language": "python",
   "name": "python3"
  },
  "language_info": {
   "codemirror_mode": {
    "name": "ipython",
    "version": 3
   },
   "file_extension": ".py",
   "mimetype": "text/x-python",
   "name": "python",
   "nbconvert_exporter": "python",
   "pygments_lexer": "ipython3",
   "version": "3.5.2"
  }
 },
 "nbformat": 4,
 "nbformat_minor": 2
}
