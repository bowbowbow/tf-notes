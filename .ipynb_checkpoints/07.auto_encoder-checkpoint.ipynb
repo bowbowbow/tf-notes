{
 "cells": [
  {
   "cell_type": "code",
   "execution_count": 1,
   "metadata": {},
   "outputs": [],
   "source": [
    "# Reference : https://github.com/golbin/TensorFlow-Tutorials\n",
    "import tensorflow as tf\n",
    "import numpy as np\n",
    "import matplotlib.pyplot as plt"
   ]
  },
  {
   "cell_type": "code",
   "execution_count": 3,
   "metadata": {},
   "outputs": [
    {
     "name": "stdout",
     "output_type": "stream",
     "text": [
      "WARNING:tensorflow:From <ipython-input-3-716e85f9f7b0>:2: read_data_sets (from tensorflow.contrib.learn.python.learn.datasets.mnist) is deprecated and will be removed in a future version.\n",
      "Instructions for updating:\n",
      "Please use alternatives such as official/mnist/dataset.py from tensorflow/models.\n",
      "WARNING:tensorflow:From /Users/seungwon/Desktop/projects/event-extraction/venv/lib/python3.5/site-packages/tensorflow/contrib/learn/python/learn/datasets/mnist.py:260: maybe_download (from tensorflow.contrib.learn.python.learn.datasets.base) is deprecated and will be removed in a future version.\n",
      "Instructions for updating:\n",
      "Please write your own downloading logic.\n",
      "WARNING:tensorflow:From /Users/seungwon/Desktop/projects/event-extraction/venv/lib/python3.5/site-packages/tensorflow/contrib/learn/python/learn/datasets/base.py:252: _internal_retry.<locals>.wrap.<locals>.wrapped_fn (from tensorflow.contrib.learn.python.learn.datasets.base) is deprecated and will be removed in a future version.\n",
      "Instructions for updating:\n",
      "Please use urllib or similar directly.\n",
      "Successfully downloaded train-images-idx3-ubyte.gz 9912422 bytes.\n",
      "WARNING:tensorflow:From /Users/seungwon/Desktop/projects/event-extraction/venv/lib/python3.5/site-packages/tensorflow/contrib/learn/python/learn/datasets/mnist.py:262: extract_images (from tensorflow.contrib.learn.python.learn.datasets.mnist) is deprecated and will be removed in a future version.\n",
      "Instructions for updating:\n",
      "Please use tf.data to implement this functionality.\n",
      "Extracting ./data/mnist/train-images-idx3-ubyte.gz\n",
      "Successfully downloaded train-labels-idx1-ubyte.gz 28881 bytes.\n",
      "WARNING:tensorflow:From /Users/seungwon/Desktop/projects/event-extraction/venv/lib/python3.5/site-packages/tensorflow/contrib/learn/python/learn/datasets/mnist.py:267: extract_labels (from tensorflow.contrib.learn.python.learn.datasets.mnist) is deprecated and will be removed in a future version.\n",
      "Instructions for updating:\n",
      "Please use tf.data to implement this functionality.\n",
      "Extracting ./data/mnist/train-labels-idx1-ubyte.gz\n",
      "WARNING:tensorflow:From /Users/seungwon/Desktop/projects/event-extraction/venv/lib/python3.5/site-packages/tensorflow/contrib/learn/python/learn/datasets/mnist.py:110: dense_to_one_hot (from tensorflow.contrib.learn.python.learn.datasets.mnist) is deprecated and will be removed in a future version.\n",
      "Instructions for updating:\n",
      "Please use tf.one_hot on tensors.\n",
      "Successfully downloaded t10k-images-idx3-ubyte.gz 1648877 bytes.\n",
      "Extracting ./data/mnist/t10k-images-idx3-ubyte.gz\n",
      "Successfully downloaded t10k-labels-idx1-ubyte.gz 4542 bytes.\n",
      "Extracting ./data/mnist/t10k-labels-idx1-ubyte.gz\n",
      "WARNING:tensorflow:From /Users/seungwon/Desktop/projects/event-extraction/venv/lib/python3.5/site-packages/tensorflow/contrib/learn/python/learn/datasets/mnist.py:290: DataSet.__init__ (from tensorflow.contrib.learn.python.learn.datasets.mnist) is deprecated and will be removed in a future version.\n",
      "Instructions for updating:\n",
      "Please use alternatives such as official/mnist/dataset.py from tensorflow/models.\n"
     ]
    }
   ],
   "source": [
    "from tensorflow.examples.tutorials.mnist import input_data\n",
    "mnist = input_data.read_data_sets('./data/mnist', one_hot=True)"
   ]
  },
  {
   "cell_type": "code",
   "execution_count": 4,
   "metadata": {},
   "outputs": [
    {
     "data": {
      "text/plain": [
       "Datasets(train=<tensorflow.contrib.learn.python.learn.datasets.mnist.DataSet object at 0x12eeba3c8>, validation=<tensorflow.contrib.learn.python.learn.datasets.mnist.DataSet object at 0x12eed9978>, test=<tensorflow.contrib.learn.python.learn.datasets.mnist.DataSet object at 0x12eed9b70>)"
      ]
     },
     "execution_count": 4,
     "metadata": {},
     "output_type": "execute_result"
    }
   ],
   "source": [
    "mnist"
   ]
  },
  {
   "cell_type": "markdown",
   "metadata": {},
   "source": [
    "# 옵션 설정"
   ]
  },
  {
   "cell_type": "code",
   "execution_count": 29,
   "metadata": {},
   "outputs": [],
   "source": [
    "learning_rate = 0.01\n",
    "training_epoch = 100\n",
    "batch_size = 100\n",
    "\n",
    "n_hidden = 30\n",
    "n_input = 28*28"
   ]
  },
  {
   "cell_type": "markdown",
   "metadata": {},
   "source": [
    "# 모델 구성"
   ]
  },
  {
   "cell_type": "code",
   "execution_count": 30,
   "metadata": {},
   "outputs": [],
   "source": [
    "X = tf.placeholder(tf.float32, [None, n_input])\n",
    "\n",
    "W_encode = tf.Variable(tf.random_normal([n_input, n_hidden]))\n",
    "b_encode = tf.Variable(tf.random_normal([n_hidden]))\n",
    "\n",
    "encoder = tf.nn.sigmoid(tf.add(tf.matmul(X, W_encode), b_encode))\n",
    "\n",
    "W_decode = tf.Variable(tf.random_normal([n_hidden, n_input]))\n",
    "b_decode = tf.Variable(tf.random_normal([n_input]))\n",
    "\n",
    "decoder = tf.nn.sigmoid(tf.add(tf.matmul(encoder, W_decode), b_decode))"
   ]
  },
  {
   "cell_type": "code",
   "execution_count": 31,
   "metadata": {},
   "outputs": [],
   "source": [
    "cost = tf.reduce_mean(tf.pow(X-decoder, 2))\n",
    "optimizer = tf.train.RMSPropOptimizer(learning_rate).minimize(cost)"
   ]
  },
  {
   "cell_type": "markdown",
   "metadata": {},
   "source": [
    "# 모델 학습"
   ]
  },
  {
   "cell_type": "code",
   "execution_count": 32,
   "metadata": {},
   "outputs": [
    {
     "name": "stdout",
     "output_type": "stream",
     "text": [
      "Epoch : 0001 Avg. cost =  0.1714\n",
      "Epoch : 0002 Avg. cost =  0.0707\n",
      "Epoch : 0003 Avg. cost =  0.0642\n",
      "Epoch : 0004 Avg. cost =  0.0586\n",
      "Epoch : 0005 Avg. cost =  0.0557\n",
      "Epoch : 0006 Avg. cost =  0.0533\n",
      "Epoch : 0007 Avg. cost =  0.0491\n",
      "Epoch : 0008 Avg. cost =  0.0461\n",
      "Epoch : 0009 Avg. cost =  0.0447\n",
      "Epoch : 0010 Avg. cost =  0.0441\n",
      "Epoch : 0011 Avg. cost =  0.0438\n",
      "Epoch : 0012 Avg. cost =  0.0435\n",
      "Epoch : 0013 Avg. cost =  0.0433\n",
      "Epoch : 0014 Avg. cost =  0.0432\n",
      "Epoch : 0015 Avg. cost =  0.0426\n",
      "Epoch : 0016 Avg. cost =  0.0416\n",
      "Epoch : 0017 Avg. cost =  0.0412\n",
      "Epoch : 0018 Avg. cost =  0.0406\n",
      "Epoch : 0019 Avg. cost =  0.0395\n",
      "Epoch : 0020 Avg. cost =  0.0391\n",
      "Epoch : 0021 Avg. cost =  0.0389\n",
      "Epoch : 0022 Avg. cost =  0.0387\n",
      "Epoch : 0023 Avg. cost =  0.0382\n",
      "Epoch : 0024 Avg. cost =  0.0374\n",
      "Epoch : 0025 Avg. cost =  0.0370\n",
      "Epoch : 0026 Avg. cost =  0.0367\n",
      "Epoch : 0027 Avg. cost =  0.0364\n",
      "Epoch : 0028 Avg. cost =  0.0360\n",
      "Epoch : 0029 Avg. cost =  0.0355\n",
      "Epoch : 0030 Avg. cost =  0.0352\n",
      "Epoch : 0031 Avg. cost =  0.0351\n",
      "Epoch : 0032 Avg. cost =  0.0349\n",
      "Epoch : 0033 Avg. cost =  0.0347\n",
      "Epoch : 0034 Avg. cost =  0.0335\n",
      "Epoch : 0035 Avg. cost =  0.0327\n",
      "Epoch : 0036 Avg. cost =  0.0324\n",
      "Epoch : 0037 Avg. cost =  0.0322\n",
      "Epoch : 0038 Avg. cost =  0.0318\n",
      "Epoch : 0039 Avg. cost =  0.0312\n",
      "Epoch : 0040 Avg. cost =  0.0309\n",
      "Epoch : 0041 Avg. cost =  0.0307\n",
      "Epoch : 0042 Avg. cost =  0.0306\n",
      "Epoch : 0043 Avg. cost =  0.0304\n",
      "Epoch : 0044 Avg. cost =  0.0303\n",
      "Epoch : 0045 Avg. cost =  0.0299\n",
      "Epoch : 0046 Avg. cost =  0.0294\n",
      "Epoch : 0047 Avg. cost =  0.0291\n",
      "Epoch : 0048 Avg. cost =  0.0289\n",
      "Epoch : 0049 Avg. cost =  0.0287\n",
      "Epoch : 0050 Avg. cost =  0.0283\n",
      "Epoch : 0051 Avg. cost =  0.0281\n",
      "Epoch : 0052 Avg. cost =  0.0279\n",
      "Epoch : 0053 Avg. cost =  0.0279\n",
      "Epoch : 0054 Avg. cost =  0.0278\n",
      "Epoch : 0055 Avg. cost =  0.0277\n",
      "Epoch : 0056 Avg. cost =  0.0277\n",
      "Epoch : 0057 Avg. cost =  0.0277\n",
      "Epoch : 0058 Avg. cost =  0.0277\n",
      "Epoch : 0059 Avg. cost =  0.0276\n",
      "Epoch : 0060 Avg. cost =  0.0276\n",
      "Epoch : 0061 Avg. cost =  0.0276\n",
      "Epoch : 0062 Avg. cost =  0.0276\n",
      "Epoch : 0063 Avg. cost =  0.0275\n",
      "Epoch : 0064 Avg. cost =  0.0275\n",
      "Epoch : 0065 Avg. cost =  0.0274\n",
      "Epoch : 0066 Avg. cost =  0.0272\n",
      "Epoch : 0067 Avg. cost =  0.0270\n",
      "Epoch : 0068 Avg. cost =  0.0268\n",
      "Epoch : 0069 Avg. cost =  0.0266\n",
      "Epoch : 0070 Avg. cost =  0.0264\n",
      "Epoch : 0071 Avg. cost =  0.0260\n",
      "Epoch : 0072 Avg. cost =  0.0258\n",
      "Epoch : 0073 Avg. cost =  0.0257\n",
      "Epoch : 0074 Avg. cost =  0.0257\n",
      "Epoch : 0075 Avg. cost =  0.0256\n",
      "Epoch : 0076 Avg. cost =  0.0255\n",
      "Epoch : 0077 Avg. cost =  0.0255\n",
      "Epoch : 0078 Avg. cost =  0.0255\n",
      "Epoch : 0079 Avg. cost =  0.0254\n",
      "Epoch : 0080 Avg. cost =  0.0254\n",
      "Epoch : 0081 Avg. cost =  0.0254\n",
      "Epoch : 0082 Avg. cost =  0.0254\n",
      "Epoch : 0083 Avg. cost =  0.0253\n",
      "Epoch : 0084 Avg. cost =  0.0253\n",
      "Epoch : 0085 Avg. cost =  0.0253\n",
      "Epoch : 0086 Avg. cost =  0.0252\n",
      "Epoch : 0087 Avg. cost =  0.0252\n",
      "Epoch : 0088 Avg. cost =  0.0250\n",
      "Epoch : 0089 Avg. cost =  0.0249\n",
      "Epoch : 0090 Avg. cost =  0.0247\n",
      "Epoch : 0091 Avg. cost =  0.0246\n",
      "Epoch : 0092 Avg. cost =  0.0245\n",
      "Epoch : 0093 Avg. cost =  0.0245\n",
      "Epoch : 0094 Avg. cost =  0.0244\n",
      "Epoch : 0095 Avg. cost =  0.0244\n",
      "Epoch : 0096 Avg. cost =  0.0244\n",
      "Epoch : 0097 Avg. cost =  0.0243\n",
      "Epoch : 0098 Avg. cost =  0.0243\n",
      "Epoch : 0099 Avg. cost =  0.0243\n",
      "Epoch : 0100 Avg. cost =  0.0243\n"
     ]
    }
   ],
   "source": [
    "sess = tf.Session()\n",
    "sess.run(tf.global_variables_initializer())\n",
    "\n",
    "total_batch = int(mnist.train.num_examples/batch_size)\n",
    "\n",
    "for epoch in range(training_epoch):\n",
    "    total_cost = 0\n",
    "    \n",
    "    for i in range(total_batch):\n",
    "        batch_xs, batch_ys = mnist.train.next_batch(batch_size)\n",
    "        _, cost_val = sess.run([optimizer, cost], feed_dict={X: batch_xs})\n",
    "        \n",
    "        total_cost += cost_val\n",
    "        \n",
    "    print('Epoch :', '%04d' % (epoch + 1), 'Avg. cost = ', '{:.4f}'.format(total_cost/ total_batch))"
   ]
  },
  {
   "cell_type": "markdown",
   "metadata": {},
   "source": [
    "# 결과 확인"
   ]
  },
  {
   "cell_type": "code",
   "execution_count": 33,
   "metadata": {},
   "outputs": [
    {
     "data": {
      "image/png": "[encoded data removed]",
      "text/plain": [
       "<Figure size 720x144 with 20 Axes>"
      ]
     },
     "metadata": {
      "needs_background": "light"
     },
     "output_type": "display_data"
    }
   ],
   "source": [
    "sample_size = 10\n",
    "\n",
    "samples = sess.run(decoder, feed_dict={X: mnist.test.images[:sample_size]})\n",
    "\n",
    "flg, ax = plt.subplots(2, sample_size, figsize=(sample_size, 2))\n",
    "\n",
    "for i in range(sample_size):\n",
    "    ax[0][i].set_axis_off()\n",
    "    ax[1][i].set_axis_off()\n",
    "    ax[0][i].imshow(np.reshape(mnist.test.images[i], (28, 28)))\n",
    "    ax[1][i].imshow(np.reshape(samples[i], (28, 28)))\n",
    "    \n",
    "plt.show()"
   ]
  },
  {
   "cell_type": "code",
   "execution_count": null,
   "metadata": {},
   "outputs": [],
   "source": []
  }
 ],
 "metadata": {
  "kernelspec": {
   "display_name": "Python 3",
   "language": "python",
   "name": "python3"
  },
  "language_info": {
   "codemirror_mode": {
    "name": "ipython",
    "version": 3
   },
   "file_extension": ".py",
   "mimetype": "text/x-python",
   "name": "python",
   "nbconvert_exporter": "python",
   "pygments_lexer": "ipython3",
   "version": "3.5.0"
  }
 },
 "nbformat": 4,
 "nbformat_minor": 2
}
