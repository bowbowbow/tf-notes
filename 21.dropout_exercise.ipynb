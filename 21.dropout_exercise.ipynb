{
 "cells": [
  {
   "cell_type": "code",
   "execution_count": 1,
   "metadata": {},
   "outputs": [],
   "source": [
    "import tensorflow as tf\n",
    "import numpy as np"
   ]
  },
  {
   "cell_type": "code",
   "execution_count": 2,
   "metadata": {},
   "outputs": [],
   "source": [
    "sess = tf.Session()\n",
    "sess.run(tf.global_variables_initializer())"
   ]
  },
  {
   "cell_type": "code",
   "execution_count": 3,
   "metadata": {},
   "outputs": [
    {
     "name": "stdout",
     "output_type": "stream",
     "text": [
      "WARNING:tensorflow:From <ipython-input-3-69948764019a>:6: calling dropout (from tensorflow.python.ops.nn_ops) with keep_prob is deprecated and will be removed in a future version.\n",
      "Instructions for updating:\n",
      "Please use `rate` instead of `keep_prob`. Rate should be set to `rate = 1 - keep_prob`.\n",
      "[[0.5123465  0.         0.26843268]\n",
      " [0.9196515  0.         0.7442491 ]\n",
      " [1.1233041  0.         0.98215723]]\n",
      "[[1.024693   0.         0.53686535]\n",
      " [0.         0.         1.4884982 ]\n",
      " [2.2466083  0.         0.        ]]\n"
     ]
    }
   ],
   "source": [
    "X = tf.placeholder(tf.float32, [3, 3]) \n",
    "keep_prob = tf.placeholder(tf.float32)\n",
    "\n",
    "W1 = tf.random_normal([3, 3], stddev=0.3)\n",
    "L1 = tf.nn.relu(tf.matmul(X, W1))\n",
    "L1_drop = tf.nn.dropout(L1, keep_prob)\n",
    "\n",
    "data = np.array([[1., 2., 3.], [3., 4., 5.], [4.,5., 6.]])\n",
    "L1, L1_drop = sess.run([L1, L1_drop], feed_dict={X: data, keep_prob:0.5})\n",
    "\n",
    "print(L1)\n",
    "print(L1_drop)"
   ]
  },
  {
   "cell_type": "code",
   "execution_count": null,
   "metadata": {},
   "outputs": [],
   "source": []
  }
 ],
 "metadata": {
  "kernelspec": {
   "display_name": "Python 3",
   "language": "python",
   "name": "python3"
  },
  "language_info": {
   "codemirror_mode": {
    "name": "ipython",
    "version": 3
   },
   "file_extension": ".py",
   "mimetype": "text/x-python",
   "name": "python",
   "nbconvert_exporter": "python",
   "pygments_lexer": "ipython3",
   "version": "3.5.2"
  }
 },
 "nbformat": 4,
 "nbformat_minor": 2
}
