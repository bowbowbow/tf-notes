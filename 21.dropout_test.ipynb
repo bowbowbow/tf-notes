{
 "cells": [
  {
   "cell_type": "code",
   "execution_count": 15,
   "metadata": {},
   "outputs": [],
   "source": [
    "import tensorflow as tf\n",
    "import numpy as np"
   ]
  },
  {
   "cell_type": "code",
   "execution_count": 26,
   "metadata": {},
   "outputs": [],
   "source": [
    "sess = tf.Session()\n",
    "sess.run(tf.global_variables_initializer())"
   ]
  },
  {
   "cell_type": "code",
   "execution_count": 58,
   "metadata": {},
   "outputs": [
    {
     "name": "stdout",
     "output_type": "stream",
     "text": [
      "[[0.1539773  0.62119037 1.5595785 ]\n",
      " [1.0069793  0.72179663 2.9365306 ]\n",
      " [1.4334805  0.7721     3.6250064 ]]\n",
      "[[0.        1.2423807 3.119157 ]\n",
      " [2.0139587 0.        5.873061 ]\n",
      " [2.866961  1.5442    7.250013 ]]\n"
     ]
    }
   ],
   "source": [
    "X = tf.placeholder(tf.float32, [3, 3]) \n",
    "keep_prob = tf.placeholder(tf.float32)\n",
    "\n",
    "W1 = tf.random_normal([3, 3], stddev=0.3)\n",
    "L1 = tf.nn.relu(tf.matmul(X, W1))\n",
    "L1_drop = tf.nn.dropout(L1, keep_prob)\n",
    "\n",
    "data = np.array([[1., 2., 3.], [3., 4., 5.], [4.,5., 6.]])\n",
    "L1, L1_drop = sess.run([L1, L1_drop], feed_dict={X: data, keep_prob:0.5})\n",
    "\n",
    "print(L1)\n",
    "print(L1_drop)"
   ]
  },
  {
   "cell_type": "code",
   "execution_count": null,
   "metadata": {},
   "outputs": [],
   "source": []
  }
 ],
 "metadata": {
  "kernelspec": {
   "display_name": "Python 3",
   "language": "python",
   "name": "python3"
  },
  "language_info": {
   "codemirror_mode": {
    "name": "ipython",
    "version": 3
   },
   "file_extension": ".py",
   "mimetype": "text/x-python",
   "name": "python",
   "nbconvert_exporter": "python",
   "pygments_lexer": "ipython3",
   "version": "3.5.2"
  }
 },
 "nbformat": 4,
 "nbformat_minor": 2
}
