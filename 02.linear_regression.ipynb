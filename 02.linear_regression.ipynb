{
 "cells": [
  {
   "cell_type": "code",
   "execution_count": 1,
   "metadata": {},
   "outputs": [],
   "source": [
    "# Source: https://github.com/golbin/TensorFlow-Tutorials\n",
    "import tensorflow as tf"
   ]
  },
  {
   "cell_type": "code",
   "execution_count": 22,
   "metadata": {},
   "outputs": [],
   "source": [
    "# 상관관계를 파악하려고 하는 데이터\n",
    "x_data = [1, 2, 3, 4, 5, 6]\n",
    "y_data = [3, 6, 9, 12, 15, 18]"
   ]
  },
  {
   "cell_type": "code",
   "execution_count": 23,
   "metadata": {},
   "outputs": [],
   "source": [
    "W = tf.Variable(tf.random_uniform([1], -1.0, 1.0))\n",
    "b = tf.Variable(tf.random_uniform([1], -1.0, 1.0))"
   ]
  },
  {
   "cell_type": "code",
   "execution_count": 24,
   "metadata": {},
   "outputs": [],
   "source": [
    "# 나중에 텐서보드로 값 변화를 보기 위해 이름을 붙여줘야 함\n",
    "X = tf.placeholder(tf.float32, name='X')\n",
    "Y = tf.placeholder(tf.float32, name='Y')"
   ]
  },
  {
   "cell_type": "code",
   "execution_count": 25,
   "metadata": {},
   "outputs": [],
   "source": [
    "hypothesis = W*X+b\n",
    "\n",
    "cost = tf.reduce_mean(tf.square(hypothesis-Y))\n",
    "optimizer = tf.train.GradientDescentOptimizer(learning_rate=0.05)\n",
    "train_op = optimizer.minimize(cost)"
   ]
  },
  {
   "cell_type": "code",
   "execution_count": 26,
   "metadata": {
    "scrolled": true
   },
   "outputs": [
    {
     "name": "stdout",
     "output_type": "stream",
     "text": [
      "0 218.45677 [5.104111] [0.7178956]\n",
      "100 0.00023140521 [2.9920478] [0.03404517]\n",
      "200 5.8186542e-06 [2.998739] [0.00539852]\n",
      "300 1.4628537e-07 [2.9998] [0.00085608]\n",
      "400 3.6720185e-09 [2.9999683] [0.00013599]\n",
      "500 9.189686e-11 [2.9999948] [2.1611639e-05]\n",
      "600 2.8800666e-12 [2.999999] [3.84151e-06]\n",
      "700 4.2822044e-12 [3.0000002] [5.712015e-07]\n",
      "800 2.917962e-12 [3.] [5.990165e-07]\n",
      "900 4.2822044e-12 [3.0000002] [5.950425e-07]\n",
      "X: 5, Y:  [15.]\n",
      "X: 10, Y:  [29.999998]\n"
     ]
    }
   ],
   "source": [
    "with tf.Session() as sess:\n",
    "    sess.run(tf.global_variables_initializer())\n",
    "    \n",
    "    for step in range(1000):\n",
    "        _, cost_val = sess.run([train_op, cost], feed_dict={X: x_data, Y: y_data})\n",
    "        \n",
    "        if step % 100 == 0:\n",
    "            # 반복 횟수에 따라 cost와 W, b값이 어떻게 변하는지 관찰\n",
    "            print(step, cost_val, sess.run(W), sess.run(b))\n",
    "        \n",
    "    \n",
    "    # # 최적화가 완료된 모델에 대해 값이 잘 나오는지 테스트\n",
    "    print('X: 5, Y: ', sess.run(hypothesis, feed_dict={X: 5}))\n",
    "    print('X: 10, Y: ', sess.run(hypothesis, feed_dict={X: 10}))"
   ]
  }
 ],
 "metadata": {
  "kernelspec": {
   "display_name": "Python 3",
   "language": "python",
   "name": "python3"
  },
  "language_info": {
   "codemirror_mode": {
    "name": "ipython",
    "version": 3
   },
   "file_extension": ".py",
   "mimetype": "text/x-python",
   "name": "python",
   "nbconvert_exporter": "python",
   "pygments_lexer": "ipython3",
   "version": "3.5.0"
  }
 },
 "nbformat": 4,
 "nbformat_minor": 2
}
