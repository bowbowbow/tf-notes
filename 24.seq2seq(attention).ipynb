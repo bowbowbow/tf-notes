{
 "cells": [
  {
   "cell_type": "code",
   "execution_count": 1,
   "metadata": {},
   "outputs": [],
   "source": [
    "# Reference : https://github.com/graykode/nlp-tutorial\n",
    "import tensorflow as tf\n",
    "import numpy as np"
   ]
  },
  {
   "cell_type": "markdown",
   "metadata": {},
   "source": [
    "## Input Data\n",
    "- S: Symbol that shows starting of decoding input\n",
    "- E: Symbol that shows starting of decoding output\n",
    "- P: Symbol that will fill in blank sequence if current batch data size is short than time steps"
   ]
  },
  {
   "cell_type": "code",
   "execution_count": 2,
   "metadata": {},
   "outputs": [],
   "source": [
    "animals = [\n",
    "    ('dog', '강아지'), \n",
    "    ('cat', '고양이'),\n",
    "    ('hamster', '햄스터'),\n",
    "    ('rabbit', '토끼'),\n",
    "    ('fox', '여우'),\n",
    "    ('lion', '사자'),\n",
    "    ('tiger', '호랑이'),\n",
    "    ('leopard', '표범'),\n",
    "    ('zebar','얼룩말'),\n",
    "    ('horse','말'),\n",
    "    ('giraffe','기린'),\n",
    "    ('hippotamus','하마'),\n",
    "    ('crocodile','악어'),\n",
    "    ('alligator','악어'),\n",
    "    ('kangaroo','캥거루'),\n",
    "    ('koala','코알라'),\n",
    "    ('elephant', '코끼리'),\n",
    "    ('snake','뱀'),\n",
    "    ('deer','사슴'),\n",
    "    ('reindeer', '순록'),\n",
    "    ('panda','팬더'),\n",
    "    ('bear','곰'),\n",
    "    ('racoon','너구리'),\n",
    "    ('otter','수달'),\n",
    "    ('cheetah', '치타'),\n",
    "    ('pig','돼지'),\n",
    "]\n",
    "\n",
    "states = [\n",
    "    ('cute', '귀엽다'),\n",
    "    ('big', '크다'),\n",
    "    ('small', '작다'),\n",
    "    ('fast','빠르다'),\n",
    "    ('slow','느리다'),\n",
    "    ('good','좋다'),\n",
    "    ('bad','나쁘다'),\n",
    "    ('loud','시끄럽다'),\n",
    "    ('quiet','조용하다'),\n",
    "    ('stupid','멍청하다'),\n",
    "    ('heavy','무겁다'),\n",
    "    ('light','가볍다'),\n",
    "    ('weak','약하다'),\n",
    "    ('strong','강하다'),\n",
    "    ('young','젋다'),\n",
    "    ('old','늙었다'),\n",
    "    ('long','길다'),\n",
    "    ('short', '짧다'),\n",
    "    ('generous','관대하다'),\n",
    "    ('mean','인색하다'),\n",
    "    ('beautiful','아름답다'),\n",
    "    ('ugly','못생겼다'),\n",
    "    ('happy','행복하다'),\n",
    "    ('sad','슬프다'),\n",
    "] \n",
    "\n",
    "sentences = []\n",
    "for animal in animals:\n",
    "    for state in states:\n",
    "        encoder_input = 'The {} is {} P'.format(animal[0], state[0])\n",
    "        decoder_input = 'S 그 {} 는 {}'.format(animal[1], state[1])\n",
    "        decoder_output = '그 {} 는 {} E'.format(animal[1], state[1])\n",
    "        \n",
    "        sentences.append([encoder_input, decoder_input,decoder_output])\n",
    "        \n",
    "        encoder_input = 'The {} are {} P'.format(animal[0], state[0])\n",
    "        decoder_input = 'S 그 {} 들은 {}'.format(animal[1], state[1])\n",
    "        decoder_output = '그 {} 들은 {} E'.format(animal[1], state[1])\n",
    "        \n",
    "        sentences.append([encoder_input, decoder_input,decoder_output])\n",
    "        \n",
    "        encoder_input = 'That {} are {} P'.format(animal[0], state[0])\n",
    "        decoder_input = 'S 저 {} 들은 {}'.format(animal[1], state[1])\n",
    "        decoder_output = '저 {} 들은 {} E'.format(animal[1], state[1])\n",
    "        \n",
    "        sentences.append([encoder_input, decoder_input,decoder_output])\n",
    "        \n",
    "word_list = \" \".join(np.array(sentences).flatten()).split() + ['P']\n",
    "word_list = list(set(word_list))\n",
    "word_dict = {w: i for i, w in enumerate(word_list)}\n",
    "number_dict = {i: w for i, w in enumerate(word_list)}\n",
    "n_class = len(word_dict)  # vocab list\n",
    "\n",
    "# Parameter\n",
    "n_step = 5  # maxium number of words in one sentence(=number of time steps)\n",
    "n_hidden = 128\n",
    "\n",
    "def make_batch(sentences):\n",
    "    input_batch, output_batch, target_batch = [], [], []\n",
    "    \n",
    "    np.random.seed(9)\n",
    "    shuffle_indices = np.random.permutation(np.arange(len(sentences)))\n",
    "    \n",
    "    for index in shuffle_indices:\n",
    "        sentence=sentences[index]\n",
    "        \n",
    "        input_batch.append(np.eye(n_class)[[word_dict[n] for n in sentence[0].split()]])\n",
    "        output_batch.append(np.eye(n_class)[[word_dict[n] for n in sentence[1].split()]])\n",
    "        target_batch.append([word_dict[n] for n in sentence[2].split()])\n",
    "    \n",
    "    return input_batch, output_batch, target_batch"
   ]
  },
  {
   "cell_type": "markdown",
   "metadata": {},
   "source": [
    "## Model"
   ]
  },
  {
   "cell_type": "code",
   "execution_count": 3,
   "metadata": {},
   "outputs": [
    {
     "name": "stdout",
     "output_type": "stream",
     "text": [
      "WARNING:tensorflow:From /home/seungwon/project/tf-notes/venv/lib/python3.5/site-packages/tensorflow/python/framework/op_def_library.py:263: colocate_with (from tensorflow.python.framework.ops) is deprecated and will be removed in a future version.\n",
      "Instructions for updating:\n",
      "Colocations handled automatically by placer.\n",
      "WARNING:tensorflow:From <ipython-input-3-1e86b9603a0b>:30: BasicRNNCell.__init__ (from tensorflow.python.ops.rnn_cell_impl) is deprecated and will be removed in a future version.\n",
      "Instructions for updating:\n",
      "This class is equivalent as tf.keras.layers.SimpleRNNCell, and will be replaced by that in Tensorflow 2.0.\n",
      "WARNING:tensorflow:From <ipython-input-3-1e86b9603a0b>:33: dynamic_rnn (from tensorflow.python.ops.rnn) is deprecated and will be removed in a future version.\n",
      "Instructions for updating:\n",
      "Please use `keras.layers.RNN(cell)`, which is equivalent to this API\n",
      "WARNING:tensorflow:From /home/seungwon/project/tf-notes/venv/lib/python3.5/site-packages/tensorflow/python/ops/rnn_cell_impl.py:1259: calling dropout (from tensorflow.python.ops.nn_ops) with keep_prob is deprecated and will be removed in a future version.\n",
      "Instructions for updating:\n",
      "Please use `rate` instead of `keep_prob`. Rate should be set to `rate = 1 - keep_prob`.\n",
      "WARNING:tensorflow:From /home/seungwon/project/tf-notes/venv/lib/python3.5/site-packages/tensorflow/python/ops/math_ops.py:3066: to_int32 (from tensorflow.python.ops.math_ops) is deprecated and will be removed in a future version.\n",
      "Instructions for updating:\n",
      "Use tf.cast instead.\n"
     ]
    }
   ],
   "source": [
    "enc_inputs = tf.placeholder(tf.float32, [None, n_step, n_class])  # [batch_size, n_step, n_class]\n",
    "dec_inputs = tf.placeholder(tf.float32, [None, n_step, n_class])  # [batch_size, n_step, n_class]\n",
    "targets = tf.placeholder(tf.int64, [None, n_step])  # [batch_size, n_step], not one-hot\n",
    "\n",
    "# Linear for attention\n",
    "attn = tf.Variable(tf.random_normal([n_hidden, n_hidden]))\n",
    "out = tf.Variable(tf.random_normal([n_hidden * 2, n_class]))\n",
    "\n",
    "# dec_output = [batch_size, 1, n_hidden(=128)] \n",
    "# enc_output: [batch_size, n_hidden]\n",
    "def get_att_score(dec_output, enc_output): \n",
    "    score = tf.matmul(enc_output, attn) # score: [batch_size, n_hidden]\n",
    "    dec_output = tf.squeeze(dec_output, 1) # dec_output: [batch_size, n_hidden]\n",
    "    return tf.reduce_sum(tf.multiply(score, dec_output), 1) # inner product makce scalar value\n",
    "\n",
    "def get_att_weights(dec_output, enc_outputs): \n",
    "    attn_scores = [] # list of attention scalar : [n_step]\n",
    "    enc_outputs = tf.transpose(enc_outputs, [1, 0, 2]) # enc_outputs : [batch_size, n_step, n_hidden] -> [n_step, batch_size, n_hidden]\n",
    "    for i in range(n_step):\n",
    "        att_score = get_att_score(dec_output, enc_outputs[i]) # att_score: [batch_size]\n",
    "        attn_scores.append(att_score) \n",
    "    \n",
    "    # Normalize scores to weights in range 0 to 1\n",
    "    attn_scores = tf.transpose(attn_scores, [1, 0]) # [n_step, batch_size] -> [batch_size, n_step]\n",
    "    return tf.nn.softmax(attn_scores) \n",
    "\n",
    "model = []\n",
    "Attention = []\n",
    "with tf.variable_scope('encode'):\n",
    "    enc_cell = tf.nn.rnn_cell.BasicRNNCell(n_hidden)\n",
    "    enc_cell = tf.nn.rnn_cell.DropoutWrapper(enc_cell, output_keep_prob = 0.5)\n",
    "\n",
    "    enc_outputs, enc_hidden = tf.nn.dynamic_rnn(enc_cell, enc_inputs, dtype=tf.float32)\n",
    "    # enc_outputs: [batch_size, n_step(=decoder_step), n_hidden(=128)]\n",
    "    # enc_hidden: [batch_size, n_hidden(=128)]\n",
    "\n",
    "with tf.variable_scope('decode'):\n",
    "    dec_cell = tf.nn.rnn_cell.BasicRNNCell(n_hidden)\n",
    "    dec_cell = tf.nn.rnn_cell.DropoutWrapper(dec_cell, output_keep_prob=0.5)\n",
    "    \n",
    "    inputs = tf.transpose(dec_inputs, [1, 0, 2]) # [batch_size, n_step, n_class] -> [n_step, batch_size, n_class]\n",
    "    hidden = enc_hidden\n",
    "    for i in range(n_step):\n",
    "        dec_output, hidden = tf.nn.dynamic_rnn(dec_cell, \n",
    "                                               tf.expand_dims(inputs[i], 1), # [batch_size, 1, n_class]                                               \n",
    "                                               initial_state=hidden,\n",
    "                                               dtype=tf.float32)\n",
    "        # dec_output: [batch_size, 1, n_hidden(=128)]\n",
    "        # hidden: [batch_size, n_hidden(=128)]\n",
    "        \n",
    "        attn_weights = get_att_weights(dec_output, enc_outputs) # attn_weights: [batch_size, n_step]\n",
    "        Attention.append(attn_weights) \n",
    "        \n",
    "        attn_weights = tf.reshape(attn_weights, [-1, 1, n_step]) # [batch_size, 1, n_step]\n",
    "        # [batch_size, 1, n_step] x [batch_size, n_step, n_hidden] = [batch_size, 1, n_hidden]\n",
    "        context = tf.matmul(attn_weights, enc_outputs)\n",
    "        context = tf.squeeze(context, 1) # [batch_size, 1, n_hidden] -> [batch_size, n_hidden]\n",
    "        \n",
    "        dec_output = tf.squeeze(dec_output, 1) # [batch_size, 1, n_hidden] -> [batch_size, n_hidden]      \n",
    "        concated = tf.concat((dec_output, context), 1) # [batch_size, n_hidden] -> [batch_size, 2*n_hidden]\n",
    "        model.append(tf.matmul(concated, out)) # [batch_size, n_class]\n",
    "    \n",
    "    \n",
    "    # Attention[0]: [batch_size, n_step]\n",
    "    # to show attention matrix\n",
    "    Attention = tf.transpose(Attention, [1, 0, 2]) # [n_step_decoder, batch_size, n_step_encoder)] -> [batch_size, n_step_decoder, n_step_encoder]\n",
    "    \n",
    "    # model: [n_step, batch_size, n_class] -> [batch_size, n_step, n_class]\n",
    "    model = tf.transpose(model, [1, 0, 2]) \n",
    "    prediction = tf.argmax(model, 2)\n",
    "    cost = tf.reduce_mean(tf.nn.sparse_softmax_cross_entropy_with_logits(logits=model, labels=targets))\n",
    "    optimizer = tf.train.AdamOptimizer(0.001).minimize(cost)"
   ]
  },
  {
   "cell_type": "markdown",
   "metadata": {},
   "source": [
    "## Train"
   ]
  },
  {
   "cell_type": "code",
   "execution_count": 4,
   "metadata": {
    "scrolled": true
   },
   "outputs": [
    {
     "name": "stdout",
     "output_type": "stream",
     "text": [
      "Epoch : 0200 cost =  0.0165938176\n",
      "Epoch : 0400 cost =  0.0063314498\n",
      "Epoch : 0600 cost =  0.0031823025\n",
      "Epoch : 0800 cost =  0.0016522098\n",
      "Epoch : 1000 cost =  0.0009642806\n",
      "Epoch : 1200 cost =  0.0008184210\n",
      "Epoch : 1400 cost =  0.0006487144\n",
      "Epoch : 1600 cost =  0.0005815891\n",
      "Epoch : 1800 cost =  0.0004293810\n",
      "Epoch : 2000 cost =  0.0004177091\n"
     ]
    }
   ],
   "source": [
    "sess = tf.Session()\n",
    "sess.run(tf.global_variables_initializer())\n",
    "\n",
    "for epoch in range(2000):\n",
    "    input_batch, output_batch, target_batch = make_batch(sentences)\n",
    "    _, loss, attention = sess.run([optimizer, cost, Attention], feed_dict={\n",
    "        enc_inputs: input_batch,\n",
    "        dec_inputs: output_batch,\n",
    "        targets: target_batch,\n",
    "    })\n",
    "\n",
    "    if (epoch + 1) % 200 == 0:\n",
    "        print('Epoch :', '%04d' % (epoch + 1), 'cost = ', '{:.10f}'.format(loss))"
   ]
  },
  {
   "cell_type": "code",
   "execution_count": 6,
   "metadata": {},
   "outputs": [
    {
     "name": "stdout",
     "output_type": "stream",
     "text": [
      "['The', 'dog', 'is', 'cute', 'P'] -> ['그', '사슴', '는', '작다', 'E']\n"
     ]
    },
    {
     "data": {
      "image/png": "[encoded data removed]",
      "text/plain": [
       "<Figure size 360x360 with 1 Axes>"
      ]
     },
     "metadata": {
      "needs_background": "light"
     },
     "output_type": "display_data"
    },
    {
     "name": "stdout",
     "output_type": "stream",
     "text": [
      "['The', 'dog', 'are', 'cute', 'P'] -> ['저', '돼지', '들은', '관대하다', 'E']\n"
     ]
    },
    {
     "data": {
      "image/png": "[encoded data removed]",
      "text/plain": [
       "<Figure size 360x360 with 1 Axes>"
      ]
     },
     "metadata": {
      "needs_background": "light"
     },
     "output_type": "display_data"
    },
    {
     "name": "stdout",
     "output_type": "stream",
     "text": [
      "['That', 'dog', 'are', 'cute', 'P'] -> ['저', '강아지', '들은', '귀엽다', 'E']\n"
     ]
    },
    {
     "data": {
      "image/png": "[encoded data removed]",
      "text/plain": [
       "<Figure size 360x360 with 1 Axes>"
      ]
     },
     "metadata": {
      "needs_background": "light"
     },
     "output_type": "display_data"
    },
    {
     "name": "stdout",
     "output_type": "stream",
     "text": [
      "['The', 'dog', 'is', 'big', 'P'] -> ['저', '팬더', '들은', '관대하다', 'E']\n"
     ]
    },
    {
     "data": {
      "image/png": "[encoded data removed]",
      "text/plain": [
       "<Figure size 360x360 with 1 Axes>"
      ]
     },
     "metadata": {
      "needs_background": "light"
     },
     "output_type": "display_data"
    },
    {
     "name": "stdout",
     "output_type": "stream",
     "text": [
      "['The', 'dog', 'are', 'big', 'P'] -> ['저', '치타', '들은', '좋다', 'E']\n"
     ]
    },
    {
     "data": {
      "image/png": "[encoded data removed]",
      "text/plain": [
       "<Figure size 360x360 with 1 Axes>"
      ]
     },
     "metadata": {
      "needs_background": "light"
     },
     "output_type": "display_data"
    },
    {
     "name": "stdout",
     "output_type": "stream",
     "text": [
      "['That', 'dog', 'are', 'big', 'P'] -> ['저', '캥거루', '들은', '길다', 'E']\n"
     ]
    },
    {
     "data": {
      "image/png": "[encoded data removed]",
      "text/plain": [
       "<Figure size 360x360 with 1 Axes>"
      ]
     },
     "metadata": {
      "needs_background": "light"
     },
     "output_type": "display_data"
    },
    {
     "name": "stdout",
     "output_type": "stream",
     "text": [
      "['The', 'dog', 'is', 'small', 'P'] -> ['그', '캥거루', '들은', '슬프다', 'E']\n"
     ]
    },
    {
     "data": {
      "image/png": "[encoded data removed]",
      "text/plain": [
       "<Figure size 360x360 with 1 Axes>"
      ]
     },
     "metadata": {
      "needs_background": "light"
     },
     "output_type": "display_data"
    },
    {
     "name": "stdout",
     "output_type": "stream",
     "text": [
      "['The', 'dog', 'are', 'small', 'P'] -> ['저', '고양이', '들은', '크다', 'E']\n"
     ]
    },
    {
     "data": {
      "image/png": "[encoded data removed]",
      "text/plain": [
       "<Figure size 360x360 with 1 Axes>"
      ]
     },
     "metadata": {
      "needs_background": "light"
     },
     "output_type": "display_data"
    },
    {
     "name": "stdout",
     "output_type": "stream",
     "text": [
      "['That', 'dog', 'are', 'small', 'P'] -> ['그', '고양이', '는', '약하다', 'E']\n"
     ]
    },
    {
     "data": {
      "image/png": "[encoded data removed]",
      "text/plain": [
       "<Figure size 360x360 with 1 Axes>"
      ]
     },
     "metadata": {
      "needs_background": "light"
     },
     "output_type": "display_data"
    },
    {
     "name": "stdout",
     "output_type": "stream",
     "text": [
      "['The', 'dog', 'is', 'fast', 'P'] -> ['그', '고양이', '는', '아름답다', 'E']\n"
     ]
    },
    {
     "data": {
      "image/png": "[encoded data removed]",
      "text/plain": [
       "<Figure size 360x360 with 1 Axes>"
      ]
     },
     "metadata": {
      "needs_background": "light"
     },
     "output_type": "display_data"
    }
   ],
   "source": [
    "# Show Attention\n",
    "import matplotlib.pyplot as plt\n",
    "\n",
    "# Set Korean Font\n",
    "from matplotlib import font_manager, rc\n",
    "font_name = font_manager.FontProperties(fname=\"/usr/share/fonts/truetype/nanum/NanumMyeongjo.ttf\").get_name()\n",
    "rc('font', family=font_name)\n",
    "\n",
    "predict_batch = [np.eye(n_class)[[word_dict[n] for n in 'P P P P P'.split()]]] * len(sentences)\n",
    "results = sess.run(prediction, feed_dict = {enc_inputs: input_batch, dec_inputs: output_batch})\n",
    "\n",
    "for i in range(len(sentences[:10])):\n",
    "    print(sentences[i][0].split(), '->', [number_dict[n] for n in results[i]])\n",
    "\n",
    "    fig = plt.figure(figsize=(5, 5))\n",
    "    ax = fig.add_subplot(1, 1, 1)\n",
    "    ax.matshow(attention[i], cmap='viridis')\n",
    "    ax.set_xticklabels([''] + sentences[i][0].split(), fontdict={'fontsize': 14})\n",
    "    ax.set_yticklabels(['']+ sentences[i][2].split(), fontdict={'fontsize': 14})\n",
    "    plt.show()"
   ]
  },
  {
   "cell_type": "code",
   "execution_count": null,
   "metadata": {},
   "outputs": [],
   "source": []
  }
 ],
 "metadata": {
  "kernelspec": {
   "display_name": "Python 3",
   "language": "python",
   "name": "python3"
  },
  "language_info": {
   "codemirror_mode": {
    "name": "ipython",
    "version": 3
   },
   "file_extension": ".py",
   "mimetype": "text/x-python",
   "name": "python",
   "nbconvert_exporter": "python",
   "pygments_lexer": "ipython3",
   "version": "3.5.2"
  }
 },
 "nbformat": 4,
 "nbformat_minor": 2
}
