{
 "cells": [
  {
   "cell_type": "code",
   "execution_count": 1,
   "metadata": {},
   "outputs": [],
   "source": [
    "'''\n",
    "  Reference : https://github.com/graykode/nlp-tutorial\n",
    "'''\n",
    "\n",
    "import tensorflow as tf\n",
    "import numpy as np\n",
    "import pandas as pd\n",
    "import nltk\n",
    "import os, re\n",
    "from tqdm import tqdm"
   ]
  },
  {
   "cell_type": "markdown",
   "metadata": {},
   "source": [
    "## Dataset 로드"
   ]
  },
  {
   "cell_type": "code",
   "execution_count": 2,
   "metadata": {},
   "outputs": [
    {
     "name": "stderr",
     "output_type": "stream",
     "text": [
      "100%|██████████| 12500/12500 [00:00<00:00, 22833.29it/s]\n",
      "100%|██████████| 12500/12500 [00:00<00:00, 22103.63it/s]\n",
      "100%|██████████| 12500/12500 [00:00<00:00, 21948.72it/s]\n",
      "100%|██████████| 12500/12500 [00:00<00:00, 21671.38it/s]\n"
     ]
    }
   ],
   "source": [
    "class Dataset:\n",
    "    def load_directory_data(self, directory):\n",
    "        data = {}\n",
    "        data[\"sentence\"] = []\n",
    "        data[\"sentiment\"] = []\n",
    "        for file_path in tqdm(os.listdir(directory)):\n",
    "            with tf.gfile.GFile(os.path.join(directory, file_path), \"r\") as f:\n",
    "                data[\"sentence\"].append(f.read())\n",
    "                data[\"sentiment\"].append(re.match(\"\\d+_(\\d+)\\.txt\", file_path).group(1))\n",
    "        return pd.DataFrame.from_dict(data)\n",
    "\n",
    "    def load_dataset(self, directory):\n",
    "        pos_df = self.load_directory_data(os.path.join(directory, \"pos\"))\n",
    "        neg_df = self.load_directory_data(os.path.join(directory, \"neg\"))\n",
    "        pos_df[\"polarity\"] = 1\n",
    "        neg_df[\"polarity\"] = 0\n",
    "        return pd.concat([pos_df, neg_df]).sample(frac=1).reset_index(drop=True)\n",
    "\n",
    "    def download_and_load_datasets(self):\n",
    "        dataset = tf.keras.utils.get_file(\n",
    "          fname=\"aclImdb.tar.gz\", \n",
    "          origin=\"http://ai.stanford.edu/~amaas/data/sentiment/aclImdb_v1.tar.gz\", \n",
    "          extract=True)\n",
    "        \n",
    "        train_df = self.load_dataset(os.path.join(os.path.dirname(dataset),\"aclImdb\", \"train\"))\n",
    "        test_df = self.load_dataset(os.path.join(os.path.dirname(dataset), \"aclImdb\", \"test\"))\n",
    "        return train_df, test_df\n",
    "\n",
    "dataset = Dataset()\n",
    "train_df, test_df = dataset.download_and_load_datasets()"
   ]
  },
  {
   "cell_type": "code",
   "execution_count": 3,
   "metadata": {},
   "outputs": [
    {
     "data": {
      "text/html": [
       "<div>\n",
       "<style scoped>\n",
       "    .dataframe tbody tr th:only-of-type {\n",
       "        vertical-align: middle;\n",
       "    }\n",
       "\n",
       "    .dataframe tbody tr th {\n",
       "        vertical-align: top;\n",
       "    }\n",
       "\n",
       "    .dataframe thead th {\n",
       "        text-align: right;\n",
       "    }\n",
       "</style>\n",
       "<table border=\"1\" class=\"dataframe\">\n",
       "  <thead>\n",
       "    <tr style=\"text-align: right;\">\n",
       "      <th></th>\n",
       "      <th>sentence</th>\n",
       "      <th>sentiment</th>\n",
       "      <th>polarity</th>\n",
       "    </tr>\n",
       "  </thead>\n",
       "  <tbody>\n",
       "    <tr>\n",
       "      <th>0</th>\n",
       "      <td>I know Anime. I've been into it long before it...</td>\n",
       "      <td>10</td>\n",
       "      <td>1</td>\n",
       "    </tr>\n",
       "    <tr>\n",
       "      <th>1</th>\n",
       "      <td>I have an awful pan-and-scan videotape of \"Boo...</td>\n",
       "      <td>1</td>\n",
       "      <td>0</td>\n",
       "    </tr>\n",
       "    <tr>\n",
       "      <th>2</th>\n",
       "      <td>My teacher taped this and showed it to us in C...</td>\n",
       "      <td>1</td>\n",
       "      <td>0</td>\n",
       "    </tr>\n",
       "    <tr>\n",
       "      <th>3</th>\n",
       "      <td>To start with, I have to point out the fact th...</td>\n",
       "      <td>4</td>\n",
       "      <td>0</td>\n",
       "    </tr>\n",
       "    <tr>\n",
       "      <th>4</th>\n",
       "      <td>I can't remember many films where a bumbling i...</td>\n",
       "      <td>9</td>\n",
       "      <td>1</td>\n",
       "    </tr>\n",
       "  </tbody>\n",
       "</table>\n",
       "</div>"
      ],
      "text/plain": [
       "                                            sentence sentiment  polarity\n",
       "0  I know Anime. I've been into it long before it...        10         1\n",
       "1  I have an awful pan-and-scan videotape of \"Boo...         1         0\n",
       "2  My teacher taped this and showed it to us in C...         1         0\n",
       "3  To start with, I have to point out the fact th...         4         0\n",
       "4  I can't remember many films where a bumbling i...         9         1"
      ]
     },
     "execution_count": 3,
     "metadata": {},
     "output_type": "execute_result"
    }
   ],
   "source": [
    "train_df.head()"
   ]
  },
  {
   "cell_type": "markdown",
   "metadata": {},
   "source": [
    "## 파라미터 설정"
   ]
  },
  {
   "cell_type": "code",
   "execution_count": 4,
   "metadata": {},
   "outputs": [],
   "source": [
    "embedding_size = 50\n",
    "sequence_length = 200\n",
    "num_classes = 2 # 0 or 1\n",
    "filter_sizes = [2,3,4] # n-gram window\n",
    "num_filters = 3\n",
    "batch_size=128\n",
    "total_epoch=40\n",
    "learning_rate = 0.001"
   ]
  },
  {
   "cell_type": "markdown",
   "metadata": {},
   "source": [
    "## 입출력 구성"
   ]
  },
  {
   "cell_type": "code",
   "execution_count": 5,
   "metadata": {},
   "outputs": [
    {
     "name": "stderr",
     "output_type": "stream",
     "text": [
      "100%|██████████| 25000/25000 [00:00<00:00, 31079.31it/s]\n",
      "100%|██████████| 25000/25000 [00:00<00:00, 32796.16it/s]\n"
     ]
    },
    {
     "name": "stdout",
     "output_type": "stream",
     "text": [
      "vocab_size : 182792\n"
     ]
    }
   ],
   "source": [
    "def get_word_list(texts):\n",
    "    import string\n",
    "    word_list = []\n",
    "    for text in tqdm(texts, disable = len(texts) < 10):\n",
    "        for c in string.punctuation:\n",
    "            text = text.replace(c,\"\")\n",
    "        word_list.extend(text.lower().split(' '))\n",
    "    return word_list\n",
    "\n",
    "word_list = ['<eos>', '<pad>'] + get_word_list(train_df['sentence']) + get_word_list(test_df['sentence'])\n",
    "word_list = list(set(word_list))\n",
    "word_dict = {w: i for i, w in enumerate(word_list)}\n",
    "vocab_size = len(word_dict)\n",
    "print('vocab_size :', vocab_size)"
   ]
  },
  {
   "cell_type": "code",
   "execution_count": 6,
   "metadata": {},
   "outputs": [],
   "source": [
    "train_X, test_X, train_y, test_y = [], [], [], []\n",
    "\n",
    "def get_X(texts):\n",
    "    X = []\n",
    "    for text in texts:\n",
    "        x = [word_dict[n] for n in get_word_list([text])][:sequence_length]\n",
    "        if len(x) < sequence_length:\n",
    "            x += [word_dict['<pad>']] * (sequence_length - len(x))\n",
    "        X.append(np.asarray(x))\n",
    "    return X\n",
    "\n",
    "def get_y(polarities):\n",
    "    y = []\n",
    "    for out in polarities:\n",
    "        y.append(np.eye(num_classes)[out])\n",
    "    return y\n",
    "        \n",
    "\n",
    "train_X = get_X(train_df['sentence'])\n",
    "test_X = get_X(test_df['sentence'])\n",
    "\n",
    "train_y = get_y(train_df['polarity'])\n",
    "test_y = get_y(test_df['polarity'])"
   ]
  },
  {
   "cell_type": "markdown",
   "metadata": {},
   "source": [
    "## 모델 구성"
   ]
  },
  {
   "cell_type": "code",
   "execution_count": 7,
   "metadata": {},
   "outputs": [
    {
     "name": "stdout",
     "output_type": "stream",
     "text": [
      "WARNING:tensorflow:From /home/seungwon/project/tf-notes/venv/lib/python3.5/site-packages/tensorflow/python/framework/op_def_library.py:263: colocate_with (from tensorflow.python.framework.ops) is deprecated and will be removed in a future version.\n",
      "Instructions for updating:\n",
      "Colocations handled automatically by placer.\n",
      "WARNING:tensorflow:From <ipython-input-7-c3f18f24dd52>:19: batch_normalization (from tensorflow.python.layers.normalization) is deprecated and will be removed in a future version.\n",
      "Instructions for updating:\n",
      "Use keras.layers.batch_normalization instead.\n",
      "\n",
      "WARNING: The TensorFlow contrib module will not be included in TensorFlow 2.0.\n",
      "For more information, please see:\n",
      "  * https://github.com/tensorflow/community/blob/master/rfcs/20180907-contrib-sunset.md\n",
      "  * https://github.com/tensorflow/addons\n",
      "If you depend on functionality not listed there, please file an issue.\n",
      "\n",
      "WARNING:tensorflow:From /home/seungwon/project/tf-notes/venv/lib/python3.5/site-packages/tensorflow/python/ops/array_grad.py:425: to_int32 (from tensorflow.python.ops.math_ops) is deprecated and will be removed in a future version.\n",
      "Instructions for updating:\n",
      "Use tf.cast instead.\n"
     ]
    }
   ],
   "source": [
    "X = tf.placeholder(tf.int32, [None, sequence_length])\n",
    "Y = tf.placeholder(tf.int32, [None, num_classes])\n",
    "is_training = tf.placeholder(tf.bool)\n",
    "\n",
    "W = tf.Variable(tf.random_uniform([vocab_size, embedding_size], -1.0, 1.0))\n",
    "embedded_chars = tf.nn.embedding_lookup(W, X) #[batch_size, sequence_length, embedding_size]\n",
    "embedded_chars = tf.expand_dims(embedded_chars, -1) #[batch_size, sequence_length, embedding_size, 1]\n",
    "\n",
    "pooled_outputs = []\n",
    "for i, filter_size in enumerate(filter_sizes):\n",
    "    filter_shape = [filter_size, embedding_size, 1, num_filters]\n",
    "    W = tf.Variable(tf.truncated_normal(filter_shape, stddev=0.1))\n",
    "    b = tf.Variable(tf.constant(0.1, shape=[num_filters]))\n",
    "    \n",
    "    conv = tf.nn.conv2d(embedded_chars, # [batch_size, sequence_length, embedding_size, 1]\n",
    "                        W,  # [filter_size(n-gram window), embedding_size, 1, num_filters]\n",
    "                        strides=[1, 1, 1, 1], padding='VALID')\n",
    "    # conv: [batch_size, sequence_length - filter_size + 1, 1, num_filters]\n",
    "    conv = tf.layers.batch_normalization(conv , center=True, scale=True, training=is_training)\n",
    "    \n",
    "    h = tf.nn.relu(tf.nn.bias_add(conv, b))\n",
    "    pooled = tf.nn.max_pool(h, \n",
    "                           ksize=[1, sequence_length - filter_size + 1, 1, 1],\n",
    "                           strides=[1, 1, 1, 1],  # [batch_size, filter_height, filter_width, channel]\n",
    "                           padding='VALID'\n",
    "                          )\n",
    "    # pooled: [batch_size, 1, 1, 3]\n",
    "    pooled_outputs.append(pooled) \n",
    "    \n",
    "\n",
    "num_filters_total = num_filters * len(filter_sizes)\n",
    "h_pool = tf.concat(pooled_outputs, num_filters) # [batch_size, output_height(=1), output_width(=1), channel(=1) * 3]\n",
    "h_pool_flat = tf.reshape(h_pool, [-1, num_filters_total]) # [batch_size, ]\n",
    "\n",
    "Weight = tf.get_variable('W', shape=[num_filters_total, num_classes],initializer=tf.contrib.layers.xavier_initializer())\n",
    "Bias = tf.Variable(tf.constant(0.1, shape=[num_classes]))\n",
    "model = tf.nn.xw_plus_b(h_pool_flat, Weight, Bias)\n",
    "\n",
    "update_ops = tf.get_collection(tf.GraphKeys.UPDATE_OPS)\n",
    "with tf.control_dependencies(update_ops):\n",
    "    cost = tf.reduce_mean(tf.nn.softmax_cross_entropy_with_logits_v2(logits=model, labels=Y))\n",
    "\n",
    "optimizer = tf.train.AdamOptimizer(learning_rate).minimize(cost)"
   ]
  },
  {
   "cell_type": "markdown",
   "metadata": {},
   "source": [
    "## 모델 훈련"
   ]
  },
  {
   "cell_type": "code",
   "execution_count": 8,
   "metadata": {},
   "outputs": [
    {
     "name": "stdout",
     "output_type": "stream",
     "text": [
      "Epoch : 0000 Avg. cost =  0.6825\n",
      "Epoch : 0005 Avg. cost =  0.2605\n",
      "Epoch : 0010 Avg. cost =  0.0641\n",
      "Epoch : 0015 Avg. cost =  0.0142\n",
      "Epoch : 0020 Avg. cost =  0.0044\n",
      "Epoch : 0025 Avg. cost =  0.0016\n",
      "Epoch : 0030 Avg. cost =  0.0007\n",
      "Epoch : 0035 Avg. cost =  0.0004\n"
     ]
    }
   ],
   "source": [
    "sess = tf.Session()\n",
    "sess.run(tf.global_variables_initializer())\n",
    "\n",
    "total_batch = int(len(train_X) / batch_size)\n",
    "\n",
    "for epoch in range(total_epoch):\n",
    "    total_cost = 0\n",
    "    for i in range(total_batch):\n",
    "        batch_X = train_X[batch_size * i:batch_size * (i+1)]\n",
    "        batch_y = train_y[batch_size * i:batch_size * (i+1)]\n",
    "        _, loss = sess.run([optimizer, cost], feed_dict={X: batch_X, Y: batch_y, is_training: True})\n",
    "        total_cost += loss\n",
    "        \n",
    "    if epoch % 5 == 0:\n",
    "        print('Epoch :', '%04d' % (epoch), 'Avg. cost = ', '{:.4f}'.format(total_cost/ total_batch))"
   ]
  },
  {
   "cell_type": "markdown",
   "metadata": {},
   "source": [
    "## 결과확인"
   ]
  },
  {
   "cell_type": "code",
   "execution_count": 9,
   "metadata": {},
   "outputs": [
    {
     "name": "stdout",
     "output_type": "stream",
     "text": [
      "train 데이터 정확도 : 0.99952\n",
      "test 데이터 정확도 : 0.77352\n"
     ]
    }
   ],
   "source": [
    "hypothesis = tf.nn.softmax(model)\n",
    "\n",
    "is_correct = tf.equal(tf.argmax(hypothesis, 1), tf.argmax(Y, 1))\n",
    "accuracy = tf.reduce_mean(tf.cast(is_correct, tf.float32))\n",
    "print('train 데이터 정확도 :', sess.run(accuracy, feed_dict={X: train_X, Y: train_y, is_training: False}))\n",
    "print('test 데이터 정확도 :', sess.run(accuracy, feed_dict={X: test_X, Y: test_y, is_training: False}))"
   ]
  },
  {
   "cell_type": "markdown",
   "metadata": {},
   "source": [
    "batch nomalization 적용 전 보다 loss가 아주 조금 더 빨리 줄어든다.\n",
    "\n",
    "적용 전 \n",
    "```\n",
    "Epoch : 0000 Avg. cost =  0.6694\n",
    "Epoch : 0005 Avg. cost =  0.2704\n",
    "Epoch : 0010 Avg. cost =  0.0792\n",
    "Epoch : 0015 Avg. cost =  0.0211\n",
    "Epoch : 0020 Avg. cost =  0.0062\n",
    "Epoch : 0025 Avg. cost =  0.0024\n",
    "Epoch : 0030 Avg. cost =  0.0011\n",
    "Epoch : 0035 Avg. cost =  0.0005\n",
    "test 데이터 정확도 : 0.77376\n",
    "```\n",
    "\n",
    "\n",
    "적용 후\n",
    "```\n",
    "Epoch : 0000 Avg. cost =  0.6825\n",
    "Epoch : 0005 Avg. cost =  0.2605\n",
    "Epoch : 0010 Avg. cost =  0.0641\n",
    "Epoch : 0015 Avg. cost =  0.0142\n",
    "Epoch : 0020 Avg. cost =  0.0044\n",
    "Epoch : 0025 Avg. cost =  0.0016\n",
    "Epoch : 0030 Avg. cost =  0.0007\n",
    "Epoch : 0035 Avg. cost =  0.0004\n",
    "test 데이터 정확도 : 0.77352\n",
    "```"
   ]
  }
 ],
 "metadata": {
  "kernelspec": {
   "display_name": "Python 3",
   "language": "python",
   "name": "python3"
  },
  "language_info": {
   "codemirror_mode": {
    "name": "ipython",
    "version": 3
   },
   "file_extension": ".py",
   "mimetype": "text/x-python",
   "name": "python",
   "nbconvert_exporter": "python",
   "pygments_lexer": "ipython3",
   "version": "3.5.2"
  }
 },
 "nbformat": 4,
 "nbformat_minor": 2
}
