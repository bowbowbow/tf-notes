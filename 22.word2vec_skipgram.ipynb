{
 "cells": [
  {
   "cell_type": "code",
   "execution_count": 1,
   "metadata": {},
   "outputs": [],
   "source": [
    "'''\n",
    "  Reference : https://github.com/graykode/nlp-tutorial\n",
    "'''\n",
    "import tensorflow as tf\n",
    "import numpy as np"
   ]
  },
  {
   "cell_type": "markdown",
   "metadata": {},
   "source": [
    "## 데이터 준비"
   ]
  },
  {
   "cell_type": "code",
   "execution_count": 7,
   "metadata": {},
   "outputs": [],
   "source": [
    "# 3 Words Sentence\n",
    "sentences = [ \"i like dog\", \n",
    "              \"i like cat\", \n",
    "              \"i like animal\",\n",
    "              \"dog cat animal\", \n",
    "              \"apple cat dog like\", \n",
    "              \"dog fish milk like\",\n",
    "              \"dog cat eyes like\", \n",
    "              \"i like apple\", \n",
    "              \"apple i hate\",\n",
    "              \"apple i movie book music like\", \n",
    "              \"cat dog hate\", \n",
    "              \"cat dog like\"]\n",
    "\n",
    "word_sequence = \" \".join(sentences).split()\n",
    "word_list = \" \".join(sentences).split()\n",
    "word_list = list(set(word_list))\n",
    "word_dict = {w: i for i, w in enumerate(word_list)}\n",
    "\n",
    "# Word2Vec Parameter\n",
    "batch_size = 20\n",
    "embedding_size = 2 # To show 2 dim embedding graph\n",
    "voc_size = len(word_list)\n",
    "\n",
    "def random_batch(data, size):\n",
    "    random_inputs = []\n",
    "    random_labels = []\n",
    "    random_index = np.random.choice(range(len(data)), size, replace=False)\n",
    "    \n",
    "    for i in random_index:\n",
    "        random_inputs.append(np.eye(voc_size)[data[i][0]]) # target\n",
    "        random_labels.append(np.eye(voc_size)[data[i][1]]) # target word\n",
    "        \n",
    "    return random_inputs, random_labels\n",
    "\n",
    "# one size window\n",
    "skip_grams = []\n",
    "for i in range(1, len(word_sequence) - 1):\n",
    "    target = word_dict[word_sequence[i]]\n",
    "    context = [word_dict[word_sequence[i-1]], word_dict[word_sequence[i+1]]]\n",
    "    \n",
    "    for w in context:\n",
    "        skip_grams.append([target, w])"
   ]
  },
  {
   "cell_type": "markdown",
   "metadata": {},
   "source": [
    "## 모델 구성"
   ]
  },
  {
   "cell_type": "code",
   "execution_count": 21,
   "metadata": {},
   "outputs": [],
   "source": [
    "inputs = tf.placeholder(tf.float32, shape=[None,voc_size])\n",
    "labels = tf.placeholder(tf.float32, shape=[None,voc_size])\n",
    "\n",
    "# W and WT is not transpose relationship\n",
    "W = tf.Variable(tf.random_uniform([voc_size, embedding_size], -1.0, 1.0))\n",
    "WT = tf.Variable(tf.random_uniform([embedding_size, voc_size], -1.0, 1.0))\n",
    "\n",
    "hidden_layer = tf.matmul(inputs, W) # [batch_size, embedding_size]\n",
    "output_layer = tf.matmul(hidden_layer, WT) # [batch_size, voc_size]\n",
    "\n",
    "cost = tf.reduce_mean(tf.nn.softmax_cross_entropy_with_logits_v2(logits = output_layer, labels=labels))\n",
    "optimizer = tf.train.AdamOptimizer(0.001).minimize(cost)"
   ]
  },
  {
   "cell_type": "markdown",
   "metadata": {},
   "source": [
    "## 모델 훈련"
   ]
  },
  {
   "cell_type": "code",
   "execution_count": 24,
   "metadata": {},
   "outputs": [
    {
     "name": "stdout",
     "output_type": "stream",
     "text": [
      "Epoch : 0000 cost =  2.8781\n",
      "Epoch : 1000 cost =  2.3723\n",
      "Epoch : 2000 cost =  2.0724\n",
      "Epoch : 3000 cost =  2.0011\n",
      "Epoch : 4000 cost =  1.7358\n",
      "Epoch : 5000 cost =  1.7160\n",
      "Epoch : 6000 cost =  1.8743\n",
      "Epoch : 7000 cost =  1.8137\n",
      "Epoch : 8000 cost =  1.9436\n",
      "Epoch : 9000 cost =  1.7661\n"
     ]
    }
   ],
   "source": [
    "with tf.Session() as sess:\n",
    "    sess.run(tf.global_variables_initializer())\n",
    "\n",
    "    for epoch in range(10000):\n",
    "        batch_inputs, batch_labels = random_batch(skip_grams, batch_size)\n",
    "        _, loss = sess.run([optimizer, cost], feed_dict={inputs: batch_inputs, labels: batch_labels})\n",
    "\n",
    "        if (epoch) % 1000 == 0:\n",
    "            print('Epoch :', '%04d' % (epoch ), 'cost = ', '{:.4f}'.format(loss))\n",
    "\n",
    "        trained_embeddings = W.eval()                                                      "
   ]
  },
  {
   "cell_type": "markdown",
   "metadata": {},
   "source": [
    "## 결과 확인"
   ]
  },
  {
   "cell_type": "code",
   "execution_count": 25,
   "metadata": {},
   "outputs": [
    {
     "data": {
      "image/png": "[encoded data removed]",
      "text/plain": [
       "<Figure size 432x288 with 1 Axes>"
      ]
     },
     "metadata": {
      "needs_background": "light"
     },
     "output_type": "display_data"
    }
   ],
   "source": [
    "import matplotlib.pyplot as plt\n",
    "for i, label in enumerate(word_list):\n",
    "    x, y = trained_embeddings[i]\n",
    "    plt.scatter(x, y)\n",
    "    plt.annotate(label, xy=(x,y), xytext=(5, 2), textcoords='offset points', ha='right', va='bottom')\n",
    "plt.show()    "
   ]
  },
  {
   "cell_type": "code",
   "execution_count": null,
   "metadata": {},
   "outputs": [],
   "source": []
  }
 ],
 "metadata": {
  "kernelspec": {
   "display_name": "Python 3",
   "language": "python",
   "name": "python3"
  },
  "language_info": {
   "codemirror_mode": {
    "name": "ipython",
    "version": 3
   },
   "file_extension": ".py",
   "mimetype": "text/x-python",
   "name": "python",
   "nbconvert_exporter": "python",
   "pygments_lexer": "ipython3",
   "version": "3.5.2"
  }
 },
 "nbformat": 4,
 "nbformat_minor": 2
}
