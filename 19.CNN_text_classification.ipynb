{
 "cells": [
  {
   "cell_type": "code",
   "execution_count": 1,
   "metadata": {},
   "outputs": [],
   "source": [
    "'''\n",
    "  Reference : https://github.com/graykode/nlp-tutorial\n",
    "'''\n",
    "\n",
    "import tensorflow as tf\n",
    "import numpy as np\n",
    "import pandas as pd\n",
    "import nltk\n",
    "import os, re\n",
    "from tqdm import tqdm"
   ]
  },
  {
   "cell_type": "markdown",
   "metadata": {},
   "source": [
    "## Dataset 로드"
   ]
  },
  {
   "cell_type": "code",
   "execution_count": 2,
   "metadata": {},
   "outputs": [
    {
     "name": "stderr",
     "output_type": "stream",
     "text": [
      "100%|██████████| 12500/12500 [00:01<00:00, 7816.35it/s]\n",
      "100%|██████████| 12500/12500 [00:01<00:00, 8051.05it/s]\n",
      "100%|██████████| 12500/12500 [00:01<00:00, 7563.26it/s]\n",
      "100%|██████████| 12500/12500 [00:01<00:00, 7826.63it/s]\n"
     ]
    }
   ],
   "source": [
    "class Dataset:\n",
    "    def load_directory_data(self, directory):\n",
    "        data = {}\n",
    "        data[\"sentence\"] = []\n",
    "        data[\"sentiment\"] = []\n",
    "        for file_path in tqdm(os.listdir(directory)):\n",
    "            with tf.gfile.GFile(os.path.join(directory, file_path), \"r\") as f:\n",
    "                data[\"sentence\"].append(f.read())\n",
    "                data[\"sentiment\"].append(re.match(\"\\d+_(\\d+)\\.txt\", file_path).group(1))\n",
    "        return pd.DataFrame.from_dict(data)\n",
    "\n",
    "    def load_dataset(self, directory):\n",
    "        pos_df = self.load_directory_data(os.path.join(directory, \"pos\"))\n",
    "        neg_df = self.load_directory_data(os.path.join(directory, \"neg\"))\n",
    "        pos_df[\"polarity\"] = 1\n",
    "        neg_df[\"polarity\"] = 0\n",
    "        return pd.concat([pos_df, neg_df]).sample(frac=1).reset_index(drop=True)\n",
    "\n",
    "    def download_and_load_datasets(self):\n",
    "        dataset = tf.keras.utils.get_file(\n",
    "          fname=\"aclImdb.tar.gz\", \n",
    "          origin=\"http://ai.stanford.edu/~amaas/data/sentiment/aclImdb_v1.tar.gz\", \n",
    "          extract=True)\n",
    "        \n",
    "        train_df = self.load_dataset(os.path.join(os.path.dirname(dataset),\"aclImdb\", \"train\"))\n",
    "        test_df = self.load_dataset(os.path.join(os.path.dirname(dataset), \"aclImdb\", \"test\"))\n",
    "        return train_df, test_df\n",
    "\n",
    "dataset = Dataset()\n",
    "train_df, test_df = dataset.download_and_load_datasets()"
   ]
  },
  {
   "cell_type": "code",
   "execution_count": 3,
   "metadata": {},
   "outputs": [
    {
     "data": {
      "text/html": [
       "<div>\n",
       "<style scoped>\n",
       "    .dataframe tbody tr th:only-of-type {\n",
       "        vertical-align: middle;\n",
       "    }\n",
       "\n",
       "    .dataframe tbody tr th {\n",
       "        vertical-align: top;\n",
       "    }\n",
       "\n",
       "    .dataframe thead th {\n",
       "        text-align: right;\n",
       "    }\n",
       "</style>\n",
       "<table border=\"1\" class=\"dataframe\">\n",
       "  <thead>\n",
       "    <tr style=\"text-align: right;\">\n",
       "      <th></th>\n",
       "      <th>sentence</th>\n",
       "      <th>sentiment</th>\n",
       "      <th>polarity</th>\n",
       "    </tr>\n",
       "  </thead>\n",
       "  <tbody>\n",
       "    <tr>\n",
       "      <th>0</th>\n",
       "      <td>Unbelievable!&lt;br /&gt;&lt;br /&gt;this film gets a 7 ou...</td>\n",
       "      <td>2</td>\n",
       "      <td>0</td>\n",
       "    </tr>\n",
       "    <tr>\n",
       "      <th>1</th>\n",
       "      <td>So this guy named George is sitting home alone...</td>\n",
       "      <td>3</td>\n",
       "      <td>0</td>\n",
       "    </tr>\n",
       "    <tr>\n",
       "      <th>2</th>\n",
       "      <td>The Three Stooges has always been some of the ...</td>\n",
       "      <td>10</td>\n",
       "      <td>1</td>\n",
       "    </tr>\n",
       "    <tr>\n",
       "      <th>3</th>\n",
       "      <td>The film is hugely enjoyable with a great cast...</td>\n",
       "      <td>10</td>\n",
       "      <td>1</td>\n",
       "    </tr>\n",
       "    <tr>\n",
       "      <th>4</th>\n",
       "      <td>Up until the last few minutes of the movie, I ...</td>\n",
       "      <td>4</td>\n",
       "      <td>0</td>\n",
       "    </tr>\n",
       "  </tbody>\n",
       "</table>\n",
       "</div>"
      ],
      "text/plain": [
       "                                            sentence sentiment  polarity\n",
       "0  Unbelievable!<br /><br />this film gets a 7 ou...         2         0\n",
       "1  So this guy named George is sitting home alone...         3         0\n",
       "2  The Three Stooges has always been some of the ...        10         1\n",
       "3  The film is hugely enjoyable with a great cast...        10         1\n",
       "4  Up until the last few minutes of the movie, I ...         4         0"
      ]
     },
     "execution_count": 3,
     "metadata": {},
     "output_type": "execute_result"
    }
   ],
   "source": [
    "train_df.head()"
   ]
  },
  {
   "cell_type": "markdown",
   "metadata": {},
   "source": [
    "## 파라미터 설정"
   ]
  },
  {
   "cell_type": "code",
   "execution_count": 4,
   "metadata": {},
   "outputs": [],
   "source": [
    "embedding_size = 50 # n-gram\n",
    "sequence_length = 250\n",
    "num_classes = 2 # 0 or 1\n",
    "filter_sizes = [2,3,4] # n-gram window\n",
    "num_filters = 3\n",
    "batch_size=256\n",
    "total_epoch=150"
   ]
  },
  {
   "cell_type": "markdown",
   "metadata": {},
   "source": [
    "## 입출력 구성"
   ]
  },
  {
   "cell_type": "code",
   "execution_count": null,
   "metadata": {},
   "outputs": [
    {
     "name": "stderr",
     "output_type": "stream",
     "text": [
      "100%|██████████| 25000/25000 [00:01<00:00, 14389.04it/s]\n",
      "100%|██████████| 25000/25000 [00:01<00:00, 14295.52it/s]\n"
     ]
    },
    {
     "name": "stdout",
     "output_type": "stream",
     "text": [
      "vocab_size : 182792\n"
     ]
    }
   ],
   "source": [
    "def get_word_list(texts):\n",
    "    import string\n",
    "    word_list = []\n",
    "    for text in tqdm(texts, disable = len(texts) < 10):\n",
    "        for c in string.punctuation:\n",
    "            text = text.replace(c,\"\")\n",
    "        word_list.extend(text.lower().split(' '))\n",
    "    return word_list\n",
    "\n",
    "word_list = ['<eos>', '<pad>'] + get_word_list(train_df['sentence']) + get_word_list(test_df['sentence'])\n",
    "word_list = list(set(word_list))\n",
    "word_dict = {w: i for i, w in enumerate(word_list)}\n",
    "vocab_size = len(word_dict)\n",
    "print('vocab_size :', vocab_size)"
   ]
  },
  {
   "cell_type": "code",
   "execution_count": null,
   "metadata": {},
   "outputs": [],
   "source": [
    "train_X, test_X, train_y, test_y = [], [], [], []\n",
    "\n",
    "def get_X(texts):\n",
    "    X = []\n",
    "    for text in texts:\n",
    "        x = [word_dict[n] for n in get_word_list([text])][:sequence_length]\n",
    "        if len(x) < sequence_length:\n",
    "            x += [word_dict['<pad>']] * (sequence_length - len(x))\n",
    "        X.append(np.asarray(x))\n",
    "    return X\n",
    "\n",
    "def get_y(polarities):\n",
    "    y = []\n",
    "    for out in polarities:\n",
    "        y.append(np.eye(num_classes)[out])\n",
    "    return y\n",
    "        \n",
    "\n",
    "train_X = get_X(train_df['sentence'])\n",
    "test_X = get_X(test_df['sentence'])\n",
    "\n",
    "train_y = get_y(train_df['polarity'])\n",
    "test_y = get_y(test_df['polarity'])"
   ]
  },
  {
   "cell_type": "markdown",
   "metadata": {},
   "source": [
    "## 모델 구성"
   ]
  },
  {
   "cell_type": "code",
   "execution_count": null,
   "metadata": {},
   "outputs": [],
   "source": [
    "X = tf.placeholder(tf.int32, [None, sequence_length])\n",
    "Y = tf.placeholder(tf.int32, [None, num_classes])\n",
    "keep_prob = tf.placeholder(tf.float32)\n",
    "\n",
    "W = tf.Variable(tf.random_uniform([vocab_size, embedding_size], -1.0, 1.0))\n",
    "embedded_chars = tf.nn.embedding_lookup(W, X) #[batch_size, sequence_length, embedding_size]\n",
    "embedded_chars = tf.expand_dims(embedded_chars, -1) #[batch_size, sequence_length, embedding_size, 1]\n",
    "\n",
    "pooled_outputs = []\n",
    "for i, filter_size in enumerate(filter_sizes):\n",
    "    filter_shape = [filter_size, embedding_size, 1, num_filters]\n",
    "    W = tf.Variable(tf.truncated_normal(filter_shape, stddev=0.1))\n",
    "    b = tf.Variable(tf.constant(0.1, shape=[num_filters]))\n",
    "    \n",
    "    conv = tf.nn.conv2d(embedded_chars, # [batch_size, sequence_length, embedding_size, 1]\n",
    "                        W,  # [filter_size(n-gram window), embedding_size, 1, num_filters]\n",
    "                        strides=[1, 1, 1, 1], padding='VALID')\n",
    "    h = tf.nn.relu(tf.nn.bias_add(conv, b))\n",
    "    pooled = tf.nn.max_pool(h, \n",
    "                           ksize=[1, sequence_length - filter_size + 1, 1, 1],\n",
    "                           strides=[1, 1, 1, 1],  # [batch_size, filter_height, filter_width, channel]\n",
    "                           padding='VALID'\n",
    "                          )\n",
    "    pooled = tf.layers.dropout(pooled, keep_prob)\n",
    "    pooled_outputs.append(pooled) # [batch_size, output_height, output_width(=1), channel(=1)]\n",
    "    \n",
    "\n",
    "num_filters_total = num_filters * len(filter_sizes)\n",
    "h_pool = tf.concat(pooled_outputs, num_filters) # [batch_size, output_height(=1), output_width(=1), channel(=1) * 3]\n",
    "h_pool_flat = tf.reshape(h_pool, [-1, num_filters_total]) # [batch_size, ]\n",
    "\n",
    "Weight = tf.get_variable('W', shape=[num_filters_total, num_classes],initializer=tf.contrib.layers.xavier_initializer())\n",
    "Bias = tf.Variable(tf.constant(0.1, shape=[num_classes]))\n",
    "model = tf.nn.xw_plus_b(h_pool_flat, Weight, Bias)\n",
    "cost = tf.reduce_mean(tf.nn.softmax_cross_entropy_with_logits_v2(logits=model, labels=Y))\n",
    "optimizer = tf.train.AdamOptimizer(0.001).minimize(cost)"
   ]
  },
  {
   "cell_type": "markdown",
   "metadata": {},
   "source": [
    "## 모델 훈련"
   ]
  },
  {
   "cell_type": "code",
   "execution_count": null,
   "metadata": {},
   "outputs": [
    {
     "name": "stdout",
     "output_type": "stream",
     "text": [
      "Epoch : 0020 Avg. cost =  0.0368\n",
      "Epoch : 0040 Avg. cost =  0.0024\n"
     ]
    }
   ],
   "source": [
    "sess = tf.Session()\n",
    "sess.run(tf.global_variables_initializer())\n",
    "\n",
    "total_batch = int(len(train_X) / batch_size)\n",
    "\n",
    "for epoch in range(total_epoch):\n",
    "    total_cost = 0\n",
    "    for i in range(total_batch):\n",
    "        batch_X = train_X[batch_size * i:batch_size * (i+1)]\n",
    "        batch_y = train_y[batch_size * i:batch_size * (i+1)]\n",
    "        _, loss = sess.run([optimizer, cost], feed_dict={X: batch_X, Y: batch_y, keep_prob: 0.5})\n",
    "        total_cost += loss\n",
    "        \n",
    "    if epoch % 20 == 0:\n",
    "        print('Epoch :', '%04d' % (epoch + 1), 'Avg. cost = ', '{:.4f}'.format(total_cost/ total_batch))"
   ]
  },
  {
   "cell_type": "markdown",
   "metadata": {},
   "source": [
    "## 결과확인"
   ]
  },
  {
   "cell_type": "code",
   "execution_count": null,
   "metadata": {},
   "outputs": [],
   "source": [
    "hypothesis = tf.nn.softmax(model)\n",
    "\n",
    "is_correct = tf.equal(tf.argmax(hypothesis, 1), tf.argmax(Y, 1))\n",
    "accuracy = tf.reduce_mean(tf.cast(is_correct, tf.float32))\n",
    "print('train 데이터 정확도 :', sess.run(accuracy, feed_dict={X: train_X, Y: train_y, keep_prob: 1.0}))\n",
    "print('test 데이터 정확도 :', sess.run(accuracy, feed_dict={X: test_X, Y: test_y, keep_prob: 1.0}))"
   ]
  },
  {
   "cell_type": "code",
   "execution_count": null,
   "metadata": {},
   "outputs": [],
   "source": []
  }
 ],
 "metadata": {
  "kernelspec": {
   "display_name": "Python 3",
   "language": "python",
   "name": "python3"
  },
  "language_info": {
   "codemirror_mode": {
    "name": "ipython",
    "version": 3
   },
   "file_extension": ".py",
   "mimetype": "text/x-python",
   "name": "python",
   "nbconvert_exporter": "python",
   "pygments_lexer": "ipython3",
   "version": "3.5.0"
  }
 },
 "nbformat": 4,
 "nbformat_minor": 2
}
