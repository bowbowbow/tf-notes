{
 "cells": [
  {
   "cell_type": "markdown",
   "metadata": {},
   "source": [
    "4글자를 가진 단어를 학습시켜, 3글자만 주어지면 나머지 한 글자를 추천하여 단어를 완성하는 프로그램"
   ]
  },
  {
   "cell_type": "code",
   "execution_count": 1,
   "metadata": {},
   "outputs": [],
   "source": [
    "import string\n",
    "char_arr = string.ascii_letters + string.digits\n",
    "\n",
    "# one-hot 인코딩 사용 및 디코딩을 하기 위해 연관 배열을 만듭니다.\n",
    "# {'a': 0, 'b': 1, 'c': 2, ..., 'j': 9, 'k', 10, ...}\n",
    "num_dic = {n: i for i, n in enumerate(char_arr)}\n",
    "dic_len = len(num_dic)\n",
    "\n",
    "# 다음 배열은 입력값과 출력값으로 다음처럼 사용할 것 입니다.\n",
    "# wor -> X, d -> Y\n",
    "# woo -> X, d -> Y\n",
    "seq_data = ['word', 'wood', 'deep', 'dive', 'cold', 'cool', 'load', 'love', 'kiss', 'kind']\n",
    "\n",
    "# def get_coin_names():\n",
    "#     import requests\n",
    "#     res = requests.get('https://storage.cobak.co/data/ticker.csv')\n",
    "#     lines = res.content.decode().split('\\r\\n')\n",
    "#     words = []\n",
    "#     for line in lines:\n",
    "#         if line:\n",
    "#             words.append(line.split(',')[1].lower())\n",
    "#     return words\n",
    "\n",
    "# seq_data.extend(get_coin_names())\n",
    "\n",
    "def make_batch(seq_data):\n",
    "    input_batch = []\n",
    "    target_batch = []\n",
    "    \n",
    "    for seq in seq_data:\n",
    "        input_indexes = [num_dic[n] for n in seq[:-1]]\n",
    "        target = num_dic[seq[-1]]\n",
    "        \n",
    "        # 원핫 인코딩\n",
    "        input_batch.append(np.eye(dic_len)[input_indexes])\n",
    "        # 이 예제에서 사용하는 sparse_softmax_corss_entropy_with_logits은 \n",
    "        # one-hot 인코딩을 사용하지 않으므로 index를 그냥 넘겨주면 된다.\n",
    "        # sparse_softmax_corss_entropy_with_logits은 자동으로 변환하여 계산해준다.\n",
    "        target_batch.append(target)\n",
    "    \n",
    "    return input_batch, target_batch"
   ]
  },
  {
   "cell_type": "code",
   "execution_count": 2,
   "metadata": {},
   "outputs": [],
   "source": [
    "import tensorflow as tf\n",
    "import numpy as np"
   ]
  },
  {
   "cell_type": "code",
   "execution_count": 3,
   "metadata": {},
   "outputs": [],
   "source": [
    "# 파라미터 설정\n",
    "learning_rate = 0.01\n",
    "n_hidden = 128\n",
    "total_epoch = 30\n",
    "\n",
    "n_step = 3\n",
    "n_input = n_class = dic_len"
   ]
  },
  {
   "cell_type": "code",
   "execution_count": 4,
   "metadata": {},
   "outputs": [
    {
     "name": "stdout",
     "output_type": "stream",
     "text": [
      "WARNING:tensorflow:From <ipython-input-4-d366709b18e6>:8: BasicLSTMCell.__init__ (from tensorflow.python.ops.rnn_cell_impl) is deprecated and will be removed in a future version.\n",
      "Instructions for updating:\n",
      "This class is deprecated, please use tf.nn.rnn_cell.LSTMCell, which supports all the feature this cell currently has. Please replace the existing code with tf.nn.rnn_cell.LSTMCell(name='basic_lstm_cell').\n"
     ]
    }
   ],
   "source": [
    "# 모델 구성\n",
    "X = tf.placeholder(tf.float32, [None, n_step, n_input])\n",
    "Y = tf.placeholder(tf.int32, [None])\n",
    "\n",
    "W = tf.Variable(tf.random_normal([n_hidden, n_class]))\n",
    "b = tf.Variable(tf.random_normal([n_class]))\n",
    "\n",
    "cell1 = tf.nn.rnn_cell.BasicLSTMCell(n_hidden)\n",
    "cell1 = tf.nn.rnn_cell.DropoutWrapper(cell1, output_keep_prob=0.5)\n",
    "cell2 = tf.nn.rnn_cell.BasicLSTMCell(n_hidden)\n",
    "                   \n",
    "multi_cell = tf.nn.rnn_cell.MultiRNNCell([cell1, cell2])\n",
    "\n",
    "outputs, states = tf.nn.dynamic_rnn(multi_cell, X, dtype=tf.float32)\n",
    "\n",
    "outputs = tf.transpose(outputs, [1, 0, 2])\n",
    "outputs = outputs[-1]\n",
    "model = tf.matmul(outputs, W) + b\n",
    "\n",
    "cost = tf.reduce_mean(tf.nn.sparse_softmax_cross_entropy_with_logits(logits=model, labels=Y))\n",
    "optimizer = tf.train.AdamOptimizer(learning_rate).minimize(cost)"
   ]
  },
  {
   "cell_type": "code",
   "execution_count": 6,
   "metadata": {},
   "outputs": [
    {
     "name": "stdout",
     "output_type": "stream",
     "text": [
      "Epoch : 0001 cost =  4.210073\n",
      "Epoch : 0002 cost =  3.118036\n",
      "Epoch : 0003 cost =  2.159593\n",
      "Epoch : 0004 cost =  1.613073\n",
      "Epoch : 0005 cost =  0.741479\n",
      "Epoch : 0006 cost =  1.064988\n",
      "Epoch : 0007 cost =  0.416634\n",
      "Epoch : 0008 cost =  0.640429\n",
      "Epoch : 0009 cost =  0.522761\n",
      "Epoch : 0010 cost =  0.316460\n",
      "Epoch : 0011 cost =  0.265336\n",
      "Epoch : 0012 cost =  0.365605\n",
      "Epoch : 0013 cost =  0.279443\n",
      "Epoch : 0014 cost =  0.148732\n",
      "Epoch : 0015 cost =  0.282166\n",
      "Epoch : 0016 cost =  0.095703\n",
      "Epoch : 0017 cost =  0.247275\n",
      "Epoch : 0018 cost =  0.116025\n",
      "Epoch : 0019 cost =  0.157589\n",
      "Epoch : 0020 cost =  0.120451\n",
      "Epoch : 0021 cost =  0.131836\n",
      "Epoch : 0022 cost =  0.053369\n",
      "Epoch : 0023 cost =  0.068996\n",
      "Epoch : 0024 cost =  0.040665\n",
      "Epoch : 0025 cost =  0.016356\n",
      "Epoch : 0026 cost =  0.038911\n",
      "Epoch : 0027 cost =  0.025467\n",
      "Epoch : 0028 cost =  0.022262\n",
      "Epoch : 0029 cost =  0.051324\n",
      "Epoch : 0030 cost =  0.022322\n"
     ]
    }
   ],
   "source": [
    "# 신경망 모델 학습\n",
    "\n",
    "sess = tf.Session()\n",
    "sess.run(tf.global_variables_initializer())\n",
    "\n",
    "input_batch, target_batch = make_batch(seq_data)\n",
    "\n",
    "for epoch in range(total_epoch):\n",
    "    _, loss = sess.run([optimizer, cost], feed_dict={X: input_batch, Y: target_batch})\n",
    "    \n",
    "    print('Epoch :', '%04d' % (epoch + 1), 'cost = ', '{:.6f}'.format(loss))"
   ]
  },
  {
   "cell_type": "code",
   "execution_count": 8,
   "metadata": {},
   "outputs": [
    {
     "name": "stdout",
     "output_type": "stream",
     "text": [
      "\n",
      "=== 예측 결과 ===\n",
      "입력값: ['wor ', 'woo ', 'dee ', 'div ', 'col ', 'coo ', 'loa ', 'lov ', 'kis ', 'kin ']\n",
      "예측값: ['word', 'wood', 'deep', 'dive', 'cold', 'cool', 'load', 'love', 'kiss', 'kind']\n",
      "정확도: 1.0\n"
     ]
    }
   ],
   "source": [
    "# 결과 확인\n",
    "\n",
    "# 레이블 값이 정수이므로 예측값도 정수로 변경\n",
    "prediction = tf.cast(tf.argmax(model, 1), tf.int32)\n",
    "# one-hot 인코딩이 아니므로 입력값을 그대로 비교\n",
    "prediction_check = tf.equal(prediction, Y)\n",
    "accuracy = tf.reduce_mean(tf.cast(prediction_check, tf.float32))\n",
    "\n",
    "input_batch, target_batch = make_batch(seq_data)\n",
    "\n",
    "predict, accuracy_val = sess.run([prediction, accuracy], feed_dict={X: input_batch, Y: target_batch})\n",
    "\n",
    "predict_words = []\n",
    "for idx, val in enumerate(seq_data):\n",
    "    last_char = char_arr[predict[idx]]\n",
    "    predict_words.append(val[:3] + last_char)\n",
    "    \n",
    "print('\\n=== 예측 결과 ===')\n",
    "print('입력값:', [w[:3] + ' ' for w in seq_data])\n",
    "print('예측값:', predict_words)\n",
    "print('정확도:', accuracy_val)"
   ]
  },
  {
   "cell_type": "code",
   "execution_count": null,
   "metadata": {},
   "outputs": [],
   "source": []
  }
 ],
 "metadata": {
  "kernelspec": {
   "display_name": "Python 3",
   "language": "python",
   "name": "python3"
  },
  "language_info": {
   "codemirror_mode": {
    "name": "ipython",
    "version": 3
   },
   "file_extension": ".py",
   "mimetype": "text/x-python",
   "name": "python",
   "nbconvert_exporter": "python",
   "pygments_lexer": "ipython3",
   "version": "3.5.0"
  }
 },
 "nbformat": 4,
 "nbformat_minor": 2
}
